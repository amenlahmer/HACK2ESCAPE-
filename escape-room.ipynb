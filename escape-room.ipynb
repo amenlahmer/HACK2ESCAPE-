{
 "cells": [
  {
   "cell_type": "code",
   "execution_count": 1,
   "id": "28eaa5dc",
   "metadata": {
    "_cell_guid": "b1076dfc-b9ad-4769-8c92-a6c4dae69d19",
    "_uuid": "8f2839f25d086af736a60e9eeb907d3b93b6e0e5",
    "execution": {
     "iopub.execute_input": "2023-03-12T15:27:31.087922Z",
     "iopub.status.busy": "2023-03-12T15:27:31.087453Z",
     "iopub.status.idle": "2023-03-12T15:27:31.104667Z",
     "shell.execute_reply": "2023-03-12T15:27:31.102980Z"
    },
    "papermill": {
     "duration": 0.040537,
     "end_time": "2023-03-12T15:27:31.107765",
     "exception": false,
     "start_time": "2023-03-12T15:27:31.067228",
     "status": "completed"
    },
    "tags": []
   },
   "outputs": [
    {
     "name": "stdout",
     "output_type": "stream",
     "text": [
      "/kaggle/input/escaperoom1/IcooonicWork.csv\n"
     ]
    }
   ],
   "source": [
    "# This Python 3 environment comes with many helpful analytics libraries installed\n",
    "# It is defined by the kaggle/python Docker image: https://github.com/kaggle/docker-python\n",
    "# For example, here's several helpful packages to load\n",
    "\n",
    "import numpy as np # linear algebra\n",
    "import pandas as pd # data processing, CSV file I/O (e.g. pd.read_csv)\n",
    "\n",
    "# Input data files are available in the read-only \"../input/\" directory\n",
    "# For example, running this (by clicking run or pressing Shift+Enter) will list all files under the input directory\n",
    "\n",
    "import os\n",
    "for dirname, _, filenames in os.walk('/kaggle/input'):\n",
    "    for filename in filenames:\n",
    "        print(os.path.join(dirname, filename))\n",
    "\n",
    "# You can write up to 20GB to the current directory (/kaggle/working/) that gets preserved as output when you create a version using \"Save & Run All\" \n",
    "# You can also write temporary files to /kaggle/temp/, but they won't be saved outside of the current session"
   ]
  },
  {
   "cell_type": "markdown",
   "id": "980d53ed",
   "metadata": {
    "papermill": {
     "duration": 0.017458,
     "end_time": "2023-03-12T15:27:31.142228",
     "exception": false,
     "start_time": "2023-03-12T15:27:31.124770",
     "status": "completed"
    },
    "tags": []
   },
   "source": [
    "# Intro\n"
   ]
  },
  {
   "cell_type": "markdown",
   "id": "b4c88ede",
   "metadata": {
    "papermill": {
     "duration": 0.014509,
     "end_time": "2023-03-12T15:27:31.171749",
     "exception": false,
     "start_time": "2023-03-12T15:27:31.157240",
     "status": "completed"
    },
    "tags": []
   },
   "source": [
    "this notebook was dedicated to test data quality made by the ML department team of GDSC ESPRIT in order to be used in HACK2ESCAPE ,a hackthon organised by the club .The ML department team have used the results to identify any issues with the data and addressed them before the hackathon began. This  ensured that the data used in the hackathon is of high quality, and the teams participating in the hackathon had the best chance of producing useful insights and innovative solutions."
   ]
  },
  {
   "cell_type": "markdown",
   "id": "5c301802",
   "metadata": {
    "papermill": {
     "duration": 0.015276,
     "end_time": "2023-03-12T15:27:31.202707",
     "exception": false,
     "start_time": "2023-03-12T15:27:31.187431",
     "status": "completed"
    },
    "tags": []
   },
   "source": [
    "# Data Exploration"
   ]
  },
  {
   "cell_type": "code",
   "execution_count": 2,
   "id": "0c3045c5",
   "metadata": {
    "execution": {
     "iopub.execute_input": "2023-03-12T15:27:31.235846Z",
     "iopub.status.busy": "2023-03-12T15:27:31.235385Z",
     "iopub.status.idle": "2023-03-12T15:27:32.886006Z",
     "shell.execute_reply": "2023-03-12T15:27:32.884839Z"
    },
    "papermill": {
     "duration": 1.670755,
     "end_time": "2023-03-12T15:27:32.888992",
     "exception": false,
     "start_time": "2023-03-12T15:27:31.218237",
     "status": "completed"
    },
    "tags": []
   },
   "outputs": [],
   "source": [
    "import numpy as np\n",
    "import pandas as pd\n",
    "import seaborn as sns\n",
    "import io\n",
    "import matplotlib.pyplot as plt\n",
    "import warnings # supress warnings\n",
    "warnings.filterwarnings('ignore')\n",
    "data=pd.read_csv('/kaggle/input/escaperoom1/IcooonicWork.csv')\n",
    "data.shape\n",
    "from sklearn.ensemble import RandomForestClassifier, AdaBoostClassifier, GradientBoostingClassifier\n",
    "from sklearn.linear_model import LogisticRegression\n",
    "from sklearn.neighbors import KNeighborsClassifier\n",
    "from sklearn.tree import DecisionTreeClassifier\n",
    "from sklearn.neural_network import MLPClassifier\n",
    "from sklearn.svm import SVC\n",
    "from sklearn.naive_bayes import GaussianNB\n",
    "from sklearn.model_selection import StratifiedKFold\n",
    "from sklearn.metrics import plot_confusion_matrix\n",
    "\n"
   ]
  },
  {
   "cell_type": "code",
   "execution_count": 3,
   "id": "7aff4eb0",
   "metadata": {
    "execution": {
     "iopub.execute_input": "2023-03-12T15:27:32.920720Z",
     "iopub.status.busy": "2023-03-12T15:27:32.920325Z",
     "iopub.status.idle": "2023-03-12T15:27:32.954662Z",
     "shell.execute_reply": "2023-03-12T15:27:32.953395Z"
    },
    "papermill": {
     "duration": 0.052992,
     "end_time": "2023-03-12T15:27:32.956946",
     "exception": false,
     "start_time": "2023-03-12T15:27:32.903954",
     "status": "completed"
    },
    "tags": []
   },
   "outputs": [
    {
     "data": {
      "text/html": [
       "<div>\n",
       "<style scoped>\n",
       "    .dataframe tbody tr th:only-of-type {\n",
       "        vertical-align: middle;\n",
       "    }\n",
       "\n",
       "    .dataframe tbody tr th {\n",
       "        vertical-align: top;\n",
       "    }\n",
       "\n",
       "    .dataframe thead th {\n",
       "        text-align: right;\n",
       "    }\n",
       "</style>\n",
       "<table border=\"1\" class=\"dataframe\">\n",
       "  <thead>\n",
       "    <tr style=\"text-align: right;\">\n",
       "      <th></th>\n",
       "      <th>Identifier</th>\n",
       "      <th>Age</th>\n",
       "      <th>Height</th>\n",
       "      <th>Level of studies</th>\n",
       "      <th>Voice type</th>\n",
       "      <th>accent</th>\n",
       "      <th>Hair color</th>\n",
       "      <th>glasses</th>\n",
       "      <th>Body type</th>\n",
       "      <th>Tattoos</th>\n",
       "      <th>Gender</th>\n",
       "      <th>PK</th>\n",
       "      <th>food</th>\n",
       "      <th>JobInvolvement</th>\n",
       "      <th>WorkLifeBalance</th>\n",
       "      <th>jailexp</th>\n",
       "    </tr>\n",
       "  </thead>\n",
       "  <tbody>\n",
       "    <tr>\n",
       "      <th>0</th>\n",
       "      <td>0.0</td>\n",
       "      <td>21.0</td>\n",
       "      <td>191.41</td>\n",
       "      <td>1.0</td>\n",
       "      <td>mid range</td>\n",
       "      <td>East Coast City Dialects</td>\n",
       "      <td>Missing</td>\n",
       "      <td>No</td>\n",
       "      <td>mesomorph</td>\n",
       "      <td>No</td>\n",
       "      <td>M</td>\n",
       "      <td>No</td>\n",
       "      <td>Pizza</td>\n",
       "      <td>8711</td>\n",
       "      <td>8711</td>\n",
       "      <td>1089.0</td>\n",
       "    </tr>\n",
       "    <tr>\n",
       "      <th>1</th>\n",
       "      <td>1.0</td>\n",
       "      <td>**??</td>\n",
       "      <td>194.91</td>\n",
       "      <td>-------&gt;?</td>\n",
       "      <td>deep</td>\n",
       "      <td>Southern American</td>\n",
       "      <td>white/gray</td>\n",
       "      <td>No</td>\n",
       "      <td>mesomorph</td>\n",
       "      <td>?</td>\n",
       "      <td>NB</td>\n",
       "      <td>No</td>\n",
       "      <td>Pizza</td>\n",
       "      <td>VeryHigh</td>\n",
       "      <td>4734</td>\n",
       "      <td>?</td>\n",
       "    </tr>\n",
       "    <tr>\n",
       "      <th>2</th>\n",
       "      <td>2.0</td>\n",
       "      <td>-------&gt;?</td>\n",
       "      <td>170.39</td>\n",
       "      <td>0.0</td>\n",
       "      <td>high pitched</td>\n",
       "      <td>Midwestern American</td>\n",
       "      <td>black</td>\n",
       "      <td>No</td>\n",
       "      <td>mesomorph</td>\n",
       "      <td>No</td>\n",
       "      <td>M</td>\n",
       "      <td>No</td>\n",
       "      <td>?</td>\n",
       "      <td>VeryHigh</td>\n",
       "      <td>7252</td>\n",
       "      <td>907.0</td>\n",
       "    </tr>\n",
       "    <tr>\n",
       "      <th>3</th>\n",
       "      <td>3.0</td>\n",
       "      <td>Missing</td>\n",
       "      <td>160.06</td>\n",
       "      <td>6.0</td>\n",
       "      <td>mid range</td>\n",
       "      <td>Southern American</td>\n",
       "      <td>brown</td>\n",
       "      <td>Yes</td>\n",
       "      <td>mesomorph</td>\n",
       "      <td>Yes</td>\n",
       "      <td>NB</td>\n",
       "      <td>Yes</td>\n",
       "      <td>Burger</td>\n",
       "      <td>8942</td>\n",
       "      <td>8942</td>\n",
       "      <td>?</td>\n",
       "    </tr>\n",
       "    <tr>\n",
       "      <th>4</th>\n",
       "      <td>4.0</td>\n",
       "      <td>19.0</td>\n",
       "      <td>187.54</td>\n",
       "      <td>3.0</td>\n",
       "      <td>deep</td>\n",
       "      <td>East Coast City Dialects</td>\n",
       "      <td>white/gray</td>\n",
       "      <td>No</td>\n",
       "      <td>ectomorph</td>\n",
       "      <td>Yes</td>\n",
       "      <td>M</td>\n",
       "      <td>No</td>\n",
       "      <td>Pizaa</td>\n",
       "      <td>VeryHigh</td>\n",
       "      <td>5080</td>\n",
       "      <td>635.0</td>\n",
       "    </tr>\n",
       "    <tr>\n",
       "      <th>5</th>\n",
       "      <td>5.0</td>\n",
       "      <td>53.0</td>\n",
       "      <td>148.04</td>\n",
       "      <td>6.0</td>\n",
       "      <td>deep</td>\n",
       "      <td>Missing</td>\n",
       "      <td>blond</td>\n",
       "      <td>Yes</td>\n",
       "      <td>Missing</td>\n",
       "      <td>No</td>\n",
       "      <td>NB</td>\n",
       "      <td>Yes</td>\n",
       "      <td>Burger</td>\n",
       "      <td>9599</td>\n",
       "      <td>9599</td>\n",
       "      <td>**??</td>\n",
       "    </tr>\n",
       "    <tr>\n",
       "      <th>6</th>\n",
       "      <td>-------&gt;?</td>\n",
       "      <td>25.0</td>\n",
       "      <td>150.14</td>\n",
       "      <td>7.0</td>\n",
       "      <td>mid range</td>\n",
       "      <td>Southern American</td>\n",
       "      <td>Missing</td>\n",
       "      <td>**??</td>\n",
       "      <td>ectomorph</td>\n",
       "      <td>Yes</td>\n",
       "      <td>M</td>\n",
       "      <td>Yes</td>\n",
       "      <td>Burger</td>\n",
       "      <td>Low</td>\n",
       "      <td>Bad</td>\n",
       "      <td>125.0</td>\n",
       "    </tr>\n",
       "    <tr>\n",
       "      <th>7</th>\n",
       "      <td>7.0</td>\n",
       "      <td>44.0</td>\n",
       "      <td>-------&gt;?</td>\n",
       "      <td>7.0</td>\n",
       "      <td>deep</td>\n",
       "      <td>Missing</td>\n",
       "      <td>blond</td>\n",
       "      <td>Yes</td>\n",
       "      <td>-------&gt;?</td>\n",
       "      <td>Yes</td>\n",
       "      <td>F</td>\n",
       "      <td>**??</td>\n",
       "      <td>Burger</td>\n",
       "      <td>8490</td>\n",
       "      <td>8490</td>\n",
       "      <td>-------&gt;?</td>\n",
       "    </tr>\n",
       "    <tr>\n",
       "      <th>8</th>\n",
       "      <td>8.0</td>\n",
       "      <td>?</td>\n",
       "      <td>163.23</td>\n",
       "      <td>8.0</td>\n",
       "      <td>deep</td>\n",
       "      <td>Boston</td>\n",
       "      <td>blond</td>\n",
       "      <td>Yes</td>\n",
       "      <td>mesomorph</td>\n",
       "      <td>Yes</td>\n",
       "      <td>F</td>\n",
       "      <td>Yes</td>\n",
       "      <td>Burger</td>\n",
       "      <td>VeryHigh</td>\n",
       "      <td>6757</td>\n",
       "      <td>1417.0</td>\n",
       "    </tr>\n",
       "    <tr>\n",
       "      <th>9</th>\n",
       "      <td>9.0</td>\n",
       "      <td>50.0</td>\n",
       "      <td>?</td>\n",
       "      <td>8.0</td>\n",
       "      <td>deep</td>\n",
       "      <td>Southern American</td>\n",
       "      <td>-------&gt;?</td>\n",
       "      <td>Yes</td>\n",
       "      <td>**??</td>\n",
       "      <td>Yes</td>\n",
       "      <td>?</td>\n",
       "      <td>Yes</td>\n",
       "      <td>Burger</td>\n",
       "      <td>VeryHigh</td>\n",
       "      <td>5133</td>\n",
       "      <td>1445.0</td>\n",
       "    </tr>\n",
       "  </tbody>\n",
       "</table>\n",
       "</div>"
      ],
      "text/plain": [
       "  Identifier        Age     Height Level of studies    Voice type  \\\n",
       "0        0.0       21.0     191.41              1.0     mid range   \n",
       "1        1.0       **??     194.91        ------->?          deep   \n",
       "2        2.0  ------->?     170.39              0.0  high pitched   \n",
       "3        3.0    Missing     160.06              6.0     mid range   \n",
       "4        4.0       19.0     187.54              3.0          deep   \n",
       "5        5.0       53.0     148.04              6.0          deep   \n",
       "6  ------->?       25.0     150.14              7.0     mid range   \n",
       "7        7.0       44.0  ------->?              7.0          deep   \n",
       "8        8.0          ?     163.23              8.0          deep   \n",
       "9        9.0       50.0          ?              8.0          deep   \n",
       "\n",
       "                     accent  Hair color glasses  Body type Tattoos Gender  \\\n",
       "0  East Coast City Dialects     Missing      No  mesomorph      No      M   \n",
       "1         Southern American  white/gray      No  mesomorph       ?     NB   \n",
       "2       Midwestern American       black      No  mesomorph      No      M   \n",
       "3         Southern American       brown     Yes  mesomorph     Yes     NB   \n",
       "4  East Coast City Dialects  white/gray      No  ectomorph     Yes      M   \n",
       "5                   Missing       blond     Yes    Missing      No     NB   \n",
       "6         Southern American     Missing    **??  ectomorph     Yes      M   \n",
       "7                   Missing       blond     Yes  ------->?     Yes      F   \n",
       "8                    Boston       blond     Yes  mesomorph     Yes      F   \n",
       "9         Southern American   ------->?     Yes       **??     Yes      ?   \n",
       "\n",
       "     PK    food JobInvolvement WorkLifeBalance    jailexp  \n",
       "0    No   Pizza           8711            8711     1089.0  \n",
       "1    No   Pizza       VeryHigh            4734          ?  \n",
       "2    No       ?       VeryHigh            7252      907.0  \n",
       "3   Yes  Burger           8942            8942          ?  \n",
       "4    No   Pizaa       VeryHigh            5080      635.0  \n",
       "5   Yes  Burger           9599            9599       **??  \n",
       "6   Yes  Burger            Low             Bad      125.0  \n",
       "7  **??  Burger           8490            8490  ------->?  \n",
       "8   Yes  Burger       VeryHigh            6757     1417.0  \n",
       "9   Yes  Burger       VeryHigh            5133     1445.0  "
      ]
     },
     "execution_count": 3,
     "metadata": {},
     "output_type": "execute_result"
    }
   ],
   "source": [
    "data.head(10)\n"
   ]
  },
  {
   "cell_type": "code",
   "execution_count": 4,
   "id": "cfb09308",
   "metadata": {
    "execution": {
     "iopub.execute_input": "2023-03-12T15:27:32.990520Z",
     "iopub.status.busy": "2023-03-12T15:27:32.989787Z",
     "iopub.status.idle": "2023-03-12T15:27:32.996118Z",
     "shell.execute_reply": "2023-03-12T15:27:32.995319Z"
    },
    "papermill": {
     "duration": 0.025349,
     "end_time": "2023-03-12T15:27:32.998350",
     "exception": false,
     "start_time": "2023-03-12T15:27:32.973001",
     "status": "completed"
    },
    "tags": []
   },
   "outputs": [
    {
     "data": {
      "text/plain": [
       "Index(['Identifier', 'Age', 'Height', 'Level of studies', 'Voice type',\n",
       "       'accent', 'Hair color', 'glasses', 'Body type', 'Tattoos', 'Gender',\n",
       "       'PK', 'food', 'JobInvolvement', 'WorkLifeBalance', 'jailexp'],\n",
       "      dtype='object')"
      ]
     },
     "execution_count": 4,
     "metadata": {},
     "output_type": "execute_result"
    }
   ],
   "source": [
    "data.columns"
   ]
  },
  {
   "cell_type": "code",
   "execution_count": 5,
   "id": "cd618348",
   "metadata": {
    "execution": {
     "iopub.execute_input": "2023-03-12T15:27:33.031782Z",
     "iopub.status.busy": "2023-03-12T15:27:33.030974Z",
     "iopub.status.idle": "2023-03-12T15:27:33.059753Z",
     "shell.execute_reply": "2023-03-12T15:27:33.058799Z"
    },
    "papermill": {
     "duration": 0.049915,
     "end_time": "2023-03-12T15:27:33.063631",
     "exception": false,
     "start_time": "2023-03-12T15:27:33.013716",
     "status": "completed"
    },
    "tags": []
   },
   "outputs": [
    {
     "name": "stdout",
     "output_type": "stream",
     "text": [
      "<class 'pandas.core.frame.DataFrame'>\n",
      "RangeIndex: 1500 entries, 0 to 1499\n",
      "Data columns (total 16 columns):\n",
      " #   Column            Non-Null Count  Dtype \n",
      "---  ------            --------------  ----- \n",
      " 0   Identifier        1500 non-null   object\n",
      " 1   Age               1500 non-null   object\n",
      " 2   Height            1500 non-null   object\n",
      " 3   Level of studies  1500 non-null   object\n",
      " 4   Voice type        1500 non-null   object\n",
      " 5   accent            1500 non-null   object\n",
      " 6   Hair color        1500 non-null   object\n",
      " 7   glasses           1500 non-null   object\n",
      " 8   Body type         1500 non-null   object\n",
      " 9   Tattoos           1500 non-null   object\n",
      " 10  Gender            1500 non-null   object\n",
      " 11  PK                1500 non-null   object\n",
      " 12  food              1500 non-null   object\n",
      " 13  JobInvolvement    1500 non-null   object\n",
      " 14  WorkLifeBalance   1500 non-null   object\n",
      " 15  jailexp           1500 non-null   object\n",
      "dtypes: object(16)\n",
      "memory usage: 187.6+ KB\n"
     ]
    }
   ],
   "source": [
    "data.info()"
   ]
  },
  {
   "cell_type": "code",
   "execution_count": 6,
   "id": "288ba04e",
   "metadata": {
    "execution": {
     "iopub.execute_input": "2023-03-12T15:27:33.097401Z",
     "iopub.status.busy": "2023-03-12T15:27:33.096613Z",
     "iopub.status.idle": "2023-03-12T15:27:33.142410Z",
     "shell.execute_reply": "2023-03-12T15:27:33.141092Z"
    },
    "papermill": {
     "duration": 0.065383,
     "end_time": "2023-03-12T15:27:33.145187",
     "exception": false,
     "start_time": "2023-03-12T15:27:33.079804",
     "status": "completed"
    },
    "tags": []
   },
   "outputs": [
    {
     "data": {
      "text/html": [
       "<div>\n",
       "<style scoped>\n",
       "    .dataframe tbody tr th:only-of-type {\n",
       "        vertical-align: middle;\n",
       "    }\n",
       "\n",
       "    .dataframe tbody tr th {\n",
       "        vertical-align: top;\n",
       "    }\n",
       "\n",
       "    .dataframe thead th {\n",
       "        text-align: right;\n",
       "    }\n",
       "</style>\n",
       "<table border=\"1\" class=\"dataframe\">\n",
       "  <thead>\n",
       "    <tr style=\"text-align: right;\">\n",
       "      <th></th>\n",
       "      <th>Identifier</th>\n",
       "      <th>Age</th>\n",
       "      <th>Height</th>\n",
       "      <th>Level of studies</th>\n",
       "      <th>Voice type</th>\n",
       "      <th>accent</th>\n",
       "      <th>Hair color</th>\n",
       "      <th>glasses</th>\n",
       "      <th>Body type</th>\n",
       "      <th>Tattoos</th>\n",
       "      <th>Gender</th>\n",
       "      <th>PK</th>\n",
       "      <th>food</th>\n",
       "      <th>JobInvolvement</th>\n",
       "      <th>WorkLifeBalance</th>\n",
       "      <th>jailexp</th>\n",
       "    </tr>\n",
       "  </thead>\n",
       "  <tbody>\n",
       "    <tr>\n",
       "      <th>count</th>\n",
       "      <td>1500</td>\n",
       "      <td>1500</td>\n",
       "      <td>1500</td>\n",
       "      <td>1500</td>\n",
       "      <td>1500</td>\n",
       "      <td>1500</td>\n",
       "      <td>1500</td>\n",
       "      <td>1500</td>\n",
       "      <td>1500</td>\n",
       "      <td>1500</td>\n",
       "      <td>1500</td>\n",
       "      <td>1500</td>\n",
       "      <td>1500</td>\n",
       "      <td>1500</td>\n",
       "      <td>1500</td>\n",
       "      <td>1500</td>\n",
       "    </tr>\n",
       "    <tr>\n",
       "      <th>unique</th>\n",
       "      <td>1358</td>\n",
       "      <td>46</td>\n",
       "      <td>1224</td>\n",
       "      <td>15</td>\n",
       "      <td>7</td>\n",
       "      <td>16</td>\n",
       "      <td>10</td>\n",
       "      <td>6</td>\n",
       "      <td>7</td>\n",
       "      <td>7</td>\n",
       "      <td>8</td>\n",
       "      <td>6</td>\n",
       "      <td>9</td>\n",
       "      <td>389</td>\n",
       "      <td>977</td>\n",
       "      <td>754</td>\n",
       "    </tr>\n",
       "    <tr>\n",
       "      <th>top</th>\n",
       "      <td>-------&gt;?</td>\n",
       "      <td>24.0</td>\n",
       "      <td>**??</td>\n",
       "      <td>4.0</td>\n",
       "      <td>deep</td>\n",
       "      <td>Midwestern American</td>\n",
       "      <td>blond</td>\n",
       "      <td>Yes</td>\n",
       "      <td>mesomorph</td>\n",
       "      <td>No</td>\n",
       "      <td>M</td>\n",
       "      <td>Yes</td>\n",
       "      <td>Burger</td>\n",
       "      <td>VeryHigh</td>\n",
       "      <td>great</td>\n",
       "      <td>-------&gt;?</td>\n",
       "    </tr>\n",
       "    <tr>\n",
       "      <th>freq</th>\n",
       "      <td>42</td>\n",
       "      <td>86</td>\n",
       "      <td>40</td>\n",
       "      <td>247</td>\n",
       "      <td>665</td>\n",
       "      <td>270</td>\n",
       "      <td>380</td>\n",
       "      <td>725</td>\n",
       "      <td>576</td>\n",
       "      <td>683</td>\n",
       "      <td>605</td>\n",
       "      <td>814</td>\n",
       "      <td>674</td>\n",
       "      <td>589</td>\n",
       "      <td>210</td>\n",
       "      <td>197</td>\n",
       "    </tr>\n",
       "  </tbody>\n",
       "</table>\n",
       "</div>"
      ],
      "text/plain": [
       "       Identifier   Age Height Level of studies Voice type  \\\n",
       "count        1500  1500   1500             1500       1500   \n",
       "unique       1358    46   1224               15          7   \n",
       "top     ------->?  24.0   **??              4.0       deep   \n",
       "freq           42    86     40              247        665   \n",
       "\n",
       "                     accent Hair color glasses  Body type Tattoos Gender  \\\n",
       "count                  1500       1500    1500       1500    1500   1500   \n",
       "unique                   16         10       6          7       7      8   \n",
       "top     Midwestern American      blond     Yes  mesomorph      No      M   \n",
       "freq                    270        380     725        576     683    605   \n",
       "\n",
       "          PK    food JobInvolvement WorkLifeBalance    jailexp  \n",
       "count   1500    1500           1500            1500       1500  \n",
       "unique     6       9            389             977        754  \n",
       "top      Yes  Burger       VeryHigh           great  ------->?  \n",
       "freq     814     674            589             210        197  "
      ]
     },
     "execution_count": 6,
     "metadata": {},
     "output_type": "execute_result"
    }
   ],
   "source": [
    "data.describe()\n"
   ]
  },
  {
   "cell_type": "code",
   "execution_count": 7,
   "id": "a8e4dc3b",
   "metadata": {
    "execution": {
     "iopub.execute_input": "2023-03-12T15:27:33.179873Z",
     "iopub.status.busy": "2023-03-12T15:27:33.179417Z",
     "iopub.status.idle": "2023-03-12T15:27:33.190718Z",
     "shell.execute_reply": "2023-03-12T15:27:33.189246Z"
    },
    "papermill": {
     "duration": 0.031677,
     "end_time": "2023-03-12T15:27:33.193358",
     "exception": false,
     "start_time": "2023-03-12T15:27:33.161681",
     "status": "completed"
    },
    "tags": []
   },
   "outputs": [
    {
     "data": {
      "text/plain": [
       "Identifier          0\n",
       "Age                 0\n",
       "Height              0\n",
       "Level of studies    0\n",
       "Voice type          0\n",
       "accent              0\n",
       "Hair color          0\n",
       "glasses             0\n",
       "Body type           0\n",
       "Tattoos             0\n",
       "Gender              0\n",
       "PK                  0\n",
       "food                0\n",
       "JobInvolvement      0\n",
       "WorkLifeBalance     0\n",
       "jailexp             0\n",
       "dtype: int64"
      ]
     },
     "execution_count": 7,
     "metadata": {},
     "output_type": "execute_result"
    }
   ],
   "source": [
    "data.isnull().sum()"
   ]
  },
  {
   "cell_type": "markdown",
   "id": "045b16ca",
   "metadata": {
    "papermill": {
     "duration": 0.016232,
     "end_time": "2023-03-12T15:27:33.225518",
     "exception": false,
     "start_time": "2023-03-12T15:27:33.209286",
     "status": "completed"
    },
    "tags": []
   },
   "source": [
    "# Data Preparation "
   ]
  },
  {
   "cell_type": "code",
   "execution_count": 8,
   "id": "44d793c1",
   "metadata": {
    "execution": {
     "iopub.execute_input": "2023-03-12T15:27:33.259043Z",
     "iopub.status.busy": "2023-03-12T15:27:33.258624Z",
     "iopub.status.idle": "2023-03-12T15:27:33.266851Z",
     "shell.execute_reply": "2023-03-12T15:27:33.265570Z"
    },
    "papermill": {
     "duration": 0.027473,
     "end_time": "2023-03-12T15:27:33.269040",
     "exception": false,
     "start_time": "2023-03-12T15:27:33.241567",
     "status": "completed"
    },
    "tags": []
   },
   "outputs": [],
   "source": [
    "data=data.drop(\"Identifier\",axis=1)\n",
    "data=data.drop(\"jailexp\",axis=1)"
   ]
  },
  {
   "cell_type": "code",
   "execution_count": 9,
   "id": "a07b8e0b",
   "metadata": {
    "execution": {
     "iopub.execute_input": "2023-03-12T15:27:33.302872Z",
     "iopub.status.busy": "2023-03-12T15:27:33.302474Z",
     "iopub.status.idle": "2023-03-12T15:27:33.317349Z",
     "shell.execute_reply": "2023-03-12T15:27:33.316048Z"
    },
    "papermill": {
     "duration": 0.036113,
     "end_time": "2023-03-12T15:27:33.321313",
     "exception": false,
     "start_time": "2023-03-12T15:27:33.285200",
     "status": "completed"
    },
    "tags": []
   },
   "outputs": [
    {
     "name": "stdout",
     "output_type": "stream",
     "text": [
      "unique values in \"Age\":\n",
      " ['21.0' '**??' '------->?' 'Missing' '19.0' '53.0' '25.0' '44.0' '?'\n",
      " '50.0' '49.0' '47.0' '42.0' '26.0' '22.0' '38.0' '20.0' '30.0' '29.0'\n",
      " '18.0' '55.0' '23.0' '24.0' '54.0' '45.0' '43.0' '46.0' '33.0' '39.0'\n",
      " '32.0' '41.0' '34.0' '37.0' '27.0' '48.0' '52.0' '35.0' '36.0' '40.0'\n",
      " '31.0' '56.0' '51.0' '28.0' '150' '635' '-25']\n",
      "unique values in \"Height\":\n",
      " ['191.41' '194.91' '170.39' ... '189.42' '170.89' '160.76']\n",
      "unique values in \"Level of studies\":\n",
      " ['1.0' '------->?' '0.0' '6.0' '3.0' '7.0' '8.0' '?' '2.0' 'Missing' '5.0'\n",
      " '4.0' '**??' '1000' '422']\n",
      "unique values in \"Voice type\":\n",
      " ['mid range' 'deep' 'high pitched' '?' '**??' '------->?' 'Missing']\n",
      "unique values in \"accent\":\n",
      " ['East Coast City Dialects' 'Southern American' 'Midwestern American'\n",
      " 'Missing' 'Boston' 'french' 'Northern Irish' 'Scottish' 'Welsh'\n",
      " 'Yorkshire' '**??' '------->?' 'Canadian' 'Cockney' 'Italian' '?']\n",
      "unique values in \"Hair color\":\n",
      " ['Missing' 'white/gray' 'black' 'brown' 'blond' '------->?' 'red' '**??'\n",
      " 'dyed' '?']\n",
      "unique values in \"glasses\":\n",
      " ['No' 'Yes' '**??' '?' 'Missing' '------->?']\n",
      "unique values in \"Body type\":\n",
      " ['mesomorph' 'ectomorph' 'Missing' '------->?' '**??' 'endomorph' '?']\n",
      "unique values in \"Tattoos\":\n",
      " ['No' '?' 'Yes' 'Missing' '------->?' '**??' 'Yas']\n",
      "unique values in \"Gender\":\n",
      " ['M' 'NB' 'F' '?' 'Missing' '------->?' '**??' 'Male']\n",
      "unique values in \"PK\":\n",
      " ['No' 'Yes' '**??' '------->?' '?' 'Missing']\n",
      "unique values in \"food\":\n",
      " ['Pizza' '?' 'Burger' 'Pizaa' 'Apple Pie' 'Hot Dogs' '------->?' 'Missing'\n",
      " '**??']\n",
      "unique values in \"JobInvolvement\":\n",
      " ['8711' 'VeryHigh' '8942' '9599' 'Low' '8490' '9006' '8513' '9289'\n",
      " 'Medium' 'High' '7915' '9202' '8827' '8845' '9431' '9244' '7633' '8897'\n",
      " '8961' '8193' '7614' '8139' '8844' '8148' '7574' '9258' '9714' '9730'\n",
      " '7926' '7509' '8746' '8156' '8188' '7847' '9292' '8380' '7707' '9343'\n",
      " '8497' '8537' '9792' '7963' '7763' '7631' '8735' '8971' '8184' '9407'\n",
      " '7625' '8975' '8686' '8745' '7808' '8623' '8151' '8744' '9352' '8307'\n",
      " '9316' '8460' '8567' '8333' '8172' '8431' '9846' '8550' '9686' '8733'\n",
      " '7807' '8720' '9865' '9651' '9081' '9004' '9371' '9041' '9213' '7754'\n",
      " '9040' '9268' '7811' '8565' '7803' '8034' '8708' '8270' '7889' '9905'\n",
      " '8023' '7709' '8353' '9454' '8886' '9404' '9088' '8705' '8374' '7764'\n",
      " '7960' '9315' '8660' '7872' '9712' '7557' '7981' '9327' '9019' '9727'\n",
      " '9704' '9008' '8061' '9183' '8010' '9685' '8469' '7931' '8675' '9391'\n",
      " '8414' '8376' '8165' '7761' '8056' '7822' '9866' '8076' '7635' '9171'\n",
      " '7621' '9285' '8540' '9531' '8004' '7616' '9181' '8612' '9875' '9351'\n",
      " '7610' '7918' '8035' '7842' '9479' '8564' '7861' '7921' '8921' '9378'\n",
      " '9555' '9365' '9700' '7794' '8037' '9616' '9010' '9897' '8309' '7791'\n",
      " '8441' '7554' '8089' '7928' '8857' '8354' '9409' '8455' '8581' '9554'\n",
      " '8394' '9908' '9406' '9349' '8869' '8977' '7579' '8227' '9945' '8437'\n",
      " '8195' '8159' '9416' '9923' '7776' '9753' '9066' '7607' '8220' '7826'\n",
      " '8701' '7908' '9733' '9940' '8627' '9291' '9205' '9236' '9382' '8833'\n",
      " '9125' '9217' '9309' '9681' '9643' '7602' '9495' '8047' '9101' '8802'\n",
      " '7968' '8329' '7924' '8279' '8761' '7799' '7998' '8778' '8488' '9300'\n",
      " '9656' '8774' '8145' '9458' '8554' '8536' '8588' '9035' '8777' '9345'\n",
      " '9278' '9653' '9331' '9835' '7979' '9319' '8049' '9507' '9173' '9750'\n",
      " '7804' '9393' '9143' '8781' '8829' '9259' '8319' '8700' '7573' '8918'\n",
      " '8162' '9777' '9552' '9576' '9025' '8556' '9692' '9707' '8658' '8045'\n",
      " '9043' '8956' '7592' '9237' '8403' '7555' '8135' '8753' '8081' '8810'\n",
      " '9587' '7598' '8721' '7604' '9174' '9889' '9780' '8968' '7976' '9568'\n",
      " '7841' '8874' '7544' '7520' '7716' '8926' '9896' '8245' '9610' '9593'\n",
      " '9540' '8217' '7858' '8731' '9747' '9321' '8539' '9758' '7558' '9863'\n",
      " '9177' '8995' '8440' '9874' '8584' '8967' '8822' '8471' '9820' '9240'\n",
      " '9601' '8360' '9852' '9049' '9496' '8362' '8619' '7719' '8236' '8356'\n",
      " '7999' '7628' '9022' '9520' '8244' '8288' '9506' '8548' '7642' '9478'\n",
      " '8215' '8297' '8183' '8693' '8952' '9450' '8724' '9408' '9356' '8363'\n",
      " '8369' '9483' '9502' '9186' '9335' '9814' '8601' '8180' '8670' '7757'\n",
      " '8432' '8630' '7941' '8377' '8888' '9545' '9669' '8542' '7586' '8378'\n",
      " '9831' '8850' '8849' '9304' '9466' '8013' '9858' '9567' '9957' '9211'\n",
      " '9509' '7996' '8326' '8388' '8570' '7608' '8607' '7923' '9226' '9529'\n",
      " '8253' '8144' '8065' '8083' '7715' '8890' '8769' '7892' '9131' '7895']\n",
      "unique values in \"WorkLifeBalance\":\n",
      " ['8711' '4734' '7252' '8942' '5080' '9599' 'Bad' '8490' '6757' '5133'\n",
      " '7068' '5057' '7470' '9006' '8513' '9289' '4341' '6029' '4724' '6644'\n",
      " 'Good' '6833' '4349' '7233' 'great' '3755' '7915' '6892' '9202' '6386'\n",
      " '7415' '4529' '8827' '5281' '7158' '4200' '7079' '6905' '5278' '8845'\n",
      " '6923' '4624' '9431' '6773' '6551' '7333' '9244' '4428' '7122' '7633'\n",
      " '6560' '8897' '7102' '5943' '6079' '8961' '5430' '4322' '5158' '8193'\n",
      " '7614' '8139' '6546' '6684' '6355' '3514' '8844' '7251' '8148' '3596'\n",
      " '7574' '6210' '4669' '3942' '4228' '9258' '4290' '4771' '4699' '7477'\n",
      " '4818' '5178' '4582' '6565' '9714' '6630' '9730' '7062' '3503' '5072'\n",
      " '5403' '7926' '5989' '7509' '8746' '3560' '8156' '5559' '4036' '7028'\n",
      " '8188' '7847' '5568' '9292' '4798' '8380' '4840' '4580' '5201' '7707'\n",
      " '6180' '5457' '4344' '4891' '9343' '8497' '8537' '6902' '9792' '6086'\n",
      " '7963' '3644' '7763' '6276' '7631' '3549' '4315' '6955' '4207' '6444'\n",
      " '3652' '4568' '4696' '4714' '5511' '3924' '7108' '4295' '5045' '7482'\n",
      " '8735' '8971' '6672' '8184' '9407' '7625' '5987' '5994' '7307' '8975'\n",
      " '5832' '5452' '7475' '8686' '4884' '5904' '5081' '5572' '4706' '5386'\n",
      " '4985' '8745' '5963' '5195' '4685' '7808' '6775' '8623' '8151' '4953'\n",
      " '8744' '9352' '8307' '9316' '6202' '8460' '8567' '7115' '6535' '8333'\n",
      " '7456' '7128' '4336' '3612' '7430' '3735' '6898' '6620' '6433' '8172'\n",
      " '8431' '9846' '7162' '8550' '7320' '9686' '8733' '5682' '7807' '8720'\n",
      " '5616' '3614' '3768' '7288' '6311' '4903' '9865' '9651' '4823' '6987'\n",
      " '5684' '5605' '6366' '7407' '9081' '4424' '9004' '5802' '7167' '4566'\n",
      " '9371' '9041' '5696' '6439' '9213' '7754' '9040' '9268' '5602' '5313'\n",
      " '7811' '6274' '6073' '6435' '8565' '7803' '8034' '8708' '7025' '8270'\n",
      " '7889' '9905' '6226' '8023' '7709' '8353' '3879' '9454' '4055' '6022'\n",
      " '6938' '8886' '5473' '5589' '6359' '9404' '4694' '5788' '9088' '8705'\n",
      " '4718' '8374' '4869' '6751' '6131' '6498' '5416' '7764' '7960' '5747'\n",
      " '7397' '4300' '9315' '8660' '7872' '6529' '9712' '5547' '7073' '7423'\n",
      " '4765' '5156' '6456' '4656' '4978' '7557' '4556' '7981' '5380' '7179'\n",
      " '4117' '4279' '9327' '9019' '4357' '5013' '4113' '9727' '4426' '3948'\n",
      " '7228' '6966' '7176' '9704' '9008' '8061' '6664' '4710' '7177' '9183'\n",
      " '8010' '9685' '6488' '4729' '8469' '7931' '8675' '5520' '9391' '3811'\n",
      " '8414' '6563' '5399' '8376' '6387' '8165' '5332' '6486' '3966' '6903'\n",
      " '4118' '7761' '5475' '4447' '5574' '8056' '7822' '7217' '3829' '6133'\n",
      " '6412' '4121' '3646' '4425' '4744' '7186' '9866' '5385' '6801' '7359'\n",
      " '6106' '8076' '7087' '7635' '4988' '9171' '7621' '9285' '5365' '8540'\n",
      " '4259' '6034' '9531' '6807' '8004' '3785' '4450' '7616' '9181' '8612'\n",
      " '5024' '5530' '6969' '7408' '9875' '5051' '9351' '5598' '5037' '5257'\n",
      " '4777' '7610' '7918' '8035' '3698' '7842' '4353' '3524' '9479' '7142'\n",
      " '8564' '7861' '6403' '7921' '8921' '5094' '7412' '4235' '9378' '9555'\n",
      " '9365' '7413' '9700' '7794' '8037' '3979' '6880' '4494' '9616' '5841'\n",
      " '9010' '9897' '4138' '6350' '5839' '8309' '3806' '7791' '8441' '7554'\n",
      " '5590' '8089' '7928' '8857' '8354' '9409' '5069' '8455' '6398' '4819'\n",
      " '7095' '6082' '3941' '3790' '4071' '3831' '6948' '6970' '7054' '8581'\n",
      " '5272' '5518' '9554' '8394' '5935' '3692' '9908' '5166' '5754' '9406'\n",
      " '6206' '5587' '7317' '7332' '9349' '8869' '3620' '5071' '5135' '8977'\n",
      " '7579' '7290' '8227' '7459' '7483' '9945' '4100' '8437' '3913' '8195'\n",
      " '8159' '9416' '5998' '5465' '4757' '9923' '7776' '6383' '5913' '5492'\n",
      " '7303' '4591' '5575' '9753' '9066' '5870' '4115' '7607' '6301' '5391'\n",
      " '4157' '7094' '7409' '8220' '6124' '3608' '7826' '5161' '6286' '8701'\n",
      " '5143' '7037' '7908' '9733' '5101' '5315' '9940' '8627' '3616' '4178'\n",
      " '3808' '9291' '6598' '5052' '3718' '7261' '9205' '5631' '9236' '7161'\n",
      " '9382' '8833' '6328' '5383' '9125' '5239' '9217' '4389' '9309' '9681'\n",
      " '9643' '6968' '7330' '7602' '6238' '9495' '8047' '9101' '4460' '8802'\n",
      " '7968' '4324' '5903' '6324' '6580' '8329' '4658' '6390' '5262' '6919'\n",
      " '7924' '4413' '8279' '8761' '5706' '7064' '7799' '4792' '7350' '3607'\n",
      " '5912' '3841' '7111' '7998' '4899' '4147' '7282' '6458' '5010' '7202'\n",
      " '3814' '8778' '8488' '4626' '4668' '9300' '9656' '6331' '8774' '8145'\n",
      " '9458' '8554' '8536' '6481' '5527' '3584' '5029' '7254' '8588' '9035'\n",
      " '6868' '8777' '5663' '9345' '7321' '9278' '4167' '9653' '9331' '5284'\n",
      " '9835' '4708' '5601' '7979' '6470' '9319' '6521' '8049' '5265' '5172'\n",
      " '9507' '3552' '4821' '9173' '4116' '6011' '7257' '9750' '5038' '7804'\n",
      " '9393' '5271' '6241' '7197' '9143' '6890' '8781' '6906' '8829' '5990'\n",
      " '5012' '9259' '8319' '3626' '8700' '7573' '8918' '8162' '4667' '6746'\n",
      " '3767' '5800' '9777' '6377' '9552' '3752' '9576' '4570' '4401' '7127'\n",
      " '3664' '9025' '6899' '6687' '8556' '4905' '9692' '3945' '5638' '9707'\n",
      " '7184' '5479' '8658' '8045' '9043' '8956' '5269' '7592' '6247' '9237'\n",
      " '5216' '8403' '4989' '5661' '7555' '8135' '8753' '8081' '5801' '8810'\n",
      " '7354' '9587' '4900' '5242' '4630' '7598' '4144' '8721' '4770' '4673'\n",
      " '7604' '6814' '3988' '7485' '4653' '4589' '5368' '5848' '4065' '6369'\n",
      " '4370' '9174' '4990' '9889' '3927' '4274' '5267' '6175' '9780' '7175'\n",
      " '6485' '8968' '3884' '5958' '5245' '7976' '6093' '4189' '9568' '4530'\n",
      " '7841' '8874' '7544' '4736' '7520' '6397' '4214' '7716' '8926' '9896'\n",
      " '4282' '8245' '3901' '6932' '6602' '9610' '9593' '5354' '7227' '9540'\n",
      " '8217' '7858' '8731' '6024' '9747' '9321' '5398' '8539' '6708' '5755'\n",
      " '9758' '5709' '7558' '4941' '4980' '7325' '4215' '9863' '9177' '8995'\n",
      " '5490' '6670' '7349' '6740' '8440' '6068' '9874' '8584' '6362' '8967'\n",
      " '8822' '8471' '6698' '5341' '9820' '7431' '9240' '9601' '4646' '8360'\n",
      " '6920' '3878' '5658' '9852' '5173' '3987' '6863' '9049' '6819' '3570'\n",
      " '9496' '8362' '4807' '5608' '7081' '8619' '7271' '7719' '8236' '8356'\n",
      " '4306' '4973' '6865' '7999' '7628' '9022' '6516' '5008' '5849' '7380'\n",
      " '9520' '8244' '5786' '4337' '7016' '5695' '5309' '6647' '8288' '3704'\n",
      " '7268' '9506' '8548' '7642' '3732' '7328' '4597' '9478' '8215' '8297'\n",
      " '8183' '5808' '4865' '3977' '8693' '8952' '9450' '8724' '6634' '9408'\n",
      " '6514' '9356' '8363' '7372' '5307' '6554' '4768' '8369' '3712' '4320'\n",
      " '6816' '6769' '9483' '6715' '6347' '9502' '5064' '3851' '5188' '9186'\n",
      " '4595' '6615' '9335' '9814' '8601' '6139' '8180' '7075' '8670' '7757'\n",
      " '8432' '4417' '4376' '8630' '7941' '5780' '8377' '8888' '9545' '4672'\n",
      " '9669' '8542' '5435' '4945' '3540' '7586' '6231' '8378' '6610' '6804'\n",
      " '9831' '8850' '8849' '4210' '9304' '6083' '3555' '6854' '7116' '4584'\n",
      " '7266' '5432' '6091' '9466' '5546' '8013' '4870' '6044' '9858' '4137'\n",
      " '5384' '9567' '5280' '7169' '4751' '9957' '7183' '9211' '5781' '5282'\n",
      " '6021' '4966' '7358' '4061' '9509' '5157' '4523' '4825' '7996' '8326'\n",
      " '4267' '8388' '3873' '8570' '6321' '6517' '7608' '6858' '4971' '7452'\n",
      " '5533' '3895' '8607' '6913' '6211' '4728' '6330' '7923' '9226' '6942'\n",
      " '9529' '4947' '5422' '7348' '3645' '6222' '8253' '4793' '8144' '5819'\n",
      " '5549' '8065' '8083' '6178' '7715' '5126' '6613' '3780' '8890' '6697'\n",
      " '8769' '5921' '7892' '9131' '*Burger' '4252' '3709']\n"
     ]
    }
   ],
   "source": [
    "\n",
    "for i in data.columns:\n",
    "    print('unique values in \"{}\":\\n'.format(i),data[i].unique())"
   ]
  },
  {
   "cell_type": "markdown",
   "id": "516124cc",
   "metadata": {
    "papermill": {
     "duration": 0.015962,
     "end_time": "2023-03-12T15:27:33.353456",
     "exception": false,
     "start_time": "2023-03-12T15:27:33.337494",
     "status": "completed"
    },
    "tags": []
   },
   "source": [
    "**Data cleaning**"
   ]
  },
  {
   "cell_type": "code",
   "execution_count": 10,
   "id": "891ef346",
   "metadata": {
    "execution": {
     "iopub.execute_input": "2023-03-12T15:27:33.388219Z",
     "iopub.status.busy": "2023-03-12T15:27:33.387767Z",
     "iopub.status.idle": "2023-03-12T15:27:33.397545Z",
     "shell.execute_reply": "2023-03-12T15:27:33.396337Z"
    },
    "papermill": {
     "duration": 0.030204,
     "end_time": "2023-03-12T15:27:33.399994",
     "exception": false,
     "start_time": "2023-03-12T15:27:33.369790",
     "status": "completed"
    },
    "tags": []
   },
   "outputs": [],
   "source": [
    "for x in ('Age','Height','Level of studies'):\n",
    "    data[x] = pd.to_numeric(data[x], errors='coerce')"
   ]
  },
  {
   "cell_type": "code",
   "execution_count": 11,
   "id": "6f75a235",
   "metadata": {
    "execution": {
     "iopub.execute_input": "2023-03-12T15:27:33.434485Z",
     "iopub.status.busy": "2023-03-12T15:27:33.433307Z",
     "iopub.status.idle": "2023-03-12T15:27:33.443465Z",
     "shell.execute_reply": "2023-03-12T15:27:33.442496Z"
    },
    "papermill": {
     "duration": 0.02991,
     "end_time": "2023-03-12T15:27:33.445909",
     "exception": false,
     "start_time": "2023-03-12T15:27:33.415999",
     "status": "completed"
    },
    "tags": []
   },
   "outputs": [],
   "source": [
    "#replace numerical values with nan in categorical columns\n",
    "for x in ('JobInvolvement','WorkLifeBalance'):\n",
    "    data[x] =data[x].where(data[x].str.match(r'\\D+$', na=False))\n",
    "\n"
   ]
  },
  {
   "cell_type": "markdown",
   "id": "a23f232b",
   "metadata": {
    "papermill": {
     "duration": 0.015541,
     "end_time": "2023-03-12T15:27:33.477429",
     "exception": false,
     "start_time": "2023-03-12T15:27:33.461888",
     "status": "completed"
    },
    "tags": []
   },
   "source": [
    "**replacing outliers in categoricals features by Nan**"
   ]
  },
  {
   "cell_type": "code",
   "execution_count": 12,
   "id": "9048c72e",
   "metadata": {
    "execution": {
     "iopub.execute_input": "2023-03-12T15:27:33.512063Z",
     "iopub.status.busy": "2023-03-12T15:27:33.511269Z",
     "iopub.status.idle": "2023-03-12T15:27:33.684277Z",
     "shell.execute_reply": "2023-03-12T15:27:33.682549Z"
    },
    "papermill": {
     "duration": 0.194051,
     "end_time": "2023-03-12T15:27:33.687490",
     "exception": false,
     "start_time": "2023-03-12T15:27:33.493439",
     "status": "completed"
    },
    "tags": []
   },
   "outputs": [],
   "source": [
    "\n",
    "for x in ('JobInvolvement','WorkLifeBalance','Voice type', 'accent', 'Hair color', 'glasses', 'Body type', 'Tattoos', 'Gender','PK', 'food'):\n",
    "        for i in ('?', '**??' ,'------->?' ,'Missing','*Burger'):\n",
    "            data.loc[data[x]==i] = np.nan\n",
    "\n",
    "    "
   ]
  },
  {
   "cell_type": "code",
   "execution_count": 13,
   "id": "3572f69f",
   "metadata": {
    "execution": {
     "iopub.execute_input": "2023-03-12T15:27:33.721959Z",
     "iopub.status.busy": "2023-03-12T15:27:33.721561Z",
     "iopub.status.idle": "2023-03-12T15:27:33.737103Z",
     "shell.execute_reply": "2023-03-12T15:27:33.735658Z"
    },
    "papermill": {
     "duration": 0.036334,
     "end_time": "2023-03-12T15:27:33.740198",
     "exception": false,
     "start_time": "2023-03-12T15:27:33.703864",
     "status": "completed"
    },
    "tags": []
   },
   "outputs": [
    {
     "name": "stdout",
     "output_type": "stream",
     "text": [
      "unique values in \"Age\":\n",
      " [ nan  19.  49.  53.  21.  42.  22.  38.  55.  43.  26.  39.  32.  24.\n",
      "  54.  18.  34.  37.  27.  52.  46.  45.  36.  40.  20.  23.  35.  47.\n",
      "  51.  33.  28.  31.  50.  56.  48.  29. 150.  25.  44.  30.  41. -25.]\n",
      "unique values in \"Height\":\n",
      " [   nan 160.06 187.54 163.23 142.4  156.6  176.49 160.79 180.01 197.56\n",
      " 169.26 204.29 140.61 164.07 161.33 198.38 201.65 159.94 151.74 174.73\n",
      " 197.66 149.36 173.95 145.71 176.32 144.88 206.45 193.48 176.94 206.5\n",
      " 161.04 158.86 166.4  182.54 166.68 165.56 153.29 166.27 145.01 142.64\n",
      " 158.59 144.1  174.35 167.13 166.29 184.56 195.87 176.42 196.16 164.02\n",
      " 181.45 161.8  177.15 153.4  207.95 159.47 174.2  160.64 199.35 193.98\n",
      " 156.93 159.85 196.39 164.51 157.47 164.22 152.96 184.99 152.45 142.99\n",
      " 162.1  166.22 143.84 192.29 164.28 149.22 193.83 150.41 171.48 188.74\n",
      " 150.07 203.53 181.06 209.97 188.28 187.77 161.83 177.61 190.47 195.23\n",
      " 163.62 156.34 145.   207.42 151.49 189.23 151.3  207.44 155.14 179.76\n",
      " 154.97 196.46 158.95 140.59 162.73 209.33 190.09 148.3  177.46 153.85\n",
      " 185.74 141.45 140.19 159.54 180.84 165.88 171.12 191.99 194.44 148.2\n",
      " 152.13 203.6  165.21 162.83 141.99 141.17 162.02 146.71 207.61 141.31\n",
      " 151.06 185.78 167.27 156.56 172.11 156.74 154.55 160.07 163.7  170.6\n",
      " 166.82 183.7  141.4  164.58 157.87 160.4  187.26 206.72 201.86 148.61\n",
      " 162.94 204.35 166.41 156.19 179.87 208.37 178.64 208.84 204.05 160.19\n",
      " 168.29 155.6  155.37 192.49 169.62 149.83 143.32 189.35 148.68 152.57\n",
      " 153.54 150.44 168.46 175.35 167.4  167.46 155.28 167.64 180.93 140.54\n",
      " 147.93 201.51 141.04 184.13 192.95 161.78 176.25 166.7  145.35 156.79\n",
      " 160.92 188.13 156.62 166.33 201.2  163.53 147.03 170.24 201.57 154.44\n",
      " 204.28 180.89 159.04 180.17 167.58 169.97 207.67 144.45 187.37 148.46\n",
      " 148.93 143.39 144.61 201.05 172.33 148.02 158.14 181.41 141.08 189.97\n",
      " 158.33 165.48 169.78 144.95 163.98 183.57 150.54 154.69 162.58 204.51\n",
      " 171.76 158.62 156.96 161.35 151.47 204.88 171.06 165.45 170.79 206.69\n",
      " 151.42 176.99 143.5  145.18 162.31 203.8  143.56 166.37 206.27 177.58\n",
      " 143.89 188.84 145.44 142.88 142.55 190.9  162.12 142.02 148.64 149.12\n",
      " 162.07 192.91 148.7  186.1  167.48 203.   181.21 197.37 140.65 208.89\n",
      " 175.98 142.06 144.96 144.68 154.68 185.12 146.23 177.63 148.1  196.89\n",
      " 186.41 154.29 184.66 157.2  190.78 201.35 204.07 186.77 142.83 145.91\n",
      " 161.65 199.15 184.68 148.79 160.52 173.55 158.43 185.56 143.61 181.95\n",
      " 167.21 194.73 195.2  142.81 162.53 164.82 148.08 152.49 188.51 207.46\n",
      " 166.54 153.43 151.44 147.12 182.82 156.75 165.98 160.27 163.96 141.2\n",
      " 156.49 156.9  191.98 157.43 173.54 168.21 200.26 153.34 199.28 191.68\n",
      " 157.25 163.39 184.77 150.65 142.26 158.41 194.78 198.71 160.29 150.2\n",
      " 155.85 141.1  155.19 199.82 157.89 209.6  175.39 205.04 163.9  143.53\n",
      " 193.37 176.08 155.86 141.49 166.02 165.3  181.26 144.19 156.41 144.6\n",
      " 162.97 172.65 173.81 141.15 159.86 162.74 193.25 154.39 198.94 141.8\n",
      " 156.27 177.34 166.35 164.35 196.02 154.57 188.62 146.03 151.88 208.1\n",
      " 152.08 166.42 164.01 189.3  158.72 183.85 167.69 184.83 165.59 143.48\n",
      " 205.07 146.32 154.96 146.09 157.44 192.11 152.81 188.67 180.15 147.65\n",
      " 162.71 167.09 165.55 143.24 186.13 142.93 144.37 208.28 159.18 192.3\n",
      " 198.89 156.07 151.02 184.95 154.05 202.68 162.63 145.27 148.06 162.95\n",
      " 161.36 179.91 168.2  203.97 142.54 146.6  174.89 141.61 196.55 174.01\n",
      " 175.8  179.25 198.16 140.78 183.54 153.67 171.21 152.01 197.78 144.85\n",
      " 183.01 142.71 180.42 145.93 202.25 149.04 147.02 166.57 144.53 188.01\n",
      " 174.8  152.29 175.9  166.1  176.79 157.49 166.23 144.86 156.06 156.81\n",
      " 153.59 202.4  151.27 161.37 145.53 201.54 142.69 164.78 178.01 200.94\n",
      " 153.15 164.41 178.05 164.5  205.35 197.93 151.22 194.29 143.9  177.05\n",
      " 180.13 155.02 170.35 168.01 160.45 181.75 151.41 141.72 148.39 154.84\n",
      " 170.89]\n",
      "unique values in \"Level of studies\":\n",
      " [  nan    6.    3.    8.    7.    0.    1.    5.    2.    4. 1000.  422.]\n",
      "unique values in \"Voice type\":\n",
      " [nan 'mid range' 'deep' 'high pitched']\n",
      "unique values in \"accent\":\n",
      " [nan 'Southern American' 'East Coast City Dialects' 'Boston' 'french'\n",
      " 'Northern Irish' 'Welsh' 'Midwestern American' 'Scottish' 'Cockney'\n",
      " 'Yorkshire' 'Italian' 'Canadian']\n",
      "unique values in \"Hair color\":\n",
      " [nan 'brown' 'white/gray' 'blond' 'black' 'dyed' 'red']\n",
      "unique values in \"glasses\":\n",
      " [nan 'Yes' 'No']\n",
      "unique values in \"Body type\":\n",
      " [nan 'mesomorph' 'ectomorph' 'endomorph']\n",
      "unique values in \"Tattoos\":\n",
      " [nan 'Yes' 'No' 'Yas']\n",
      "unique values in \"Gender\":\n",
      " [nan 'NB' 'M' 'F']\n",
      "unique values in \"PK\":\n",
      " [nan 'Yes' 'No']\n",
      "unique values in \"food\":\n",
      " [nan 'Burger' 'Pizaa' 'Hot Dogs' 'Pizza' 'Apple Pie']\n",
      "unique values in \"JobInvolvement\":\n",
      " [nan 'VeryHigh' 'Low' 'Medium' 'High']\n",
      "unique values in \"WorkLifeBalance\":\n",
      " [nan 'Bad' 'Good' 'great']\n"
     ]
    }
   ],
   "source": [
    "\n",
    "for i in data.columns:\n",
    "    print('unique values in \"{}\":\\n'.format(i),data[i].unique())"
   ]
  },
  {
   "cell_type": "markdown",
   "id": "0fe69a12",
   "metadata": {
    "papermill": {
     "duration": 0.015948,
     "end_time": "2023-03-12T15:27:33.772270",
     "exception": false,
     "start_time": "2023-03-12T15:27:33.756322",
     "status": "completed"
    },
    "tags": []
   },
   "source": [
    "**seprating features into categoricals & numericals**"
   ]
  },
  {
   "cell_type": "code",
   "execution_count": 14,
   "id": "c496914c",
   "metadata": {
    "execution": {
     "iopub.execute_input": "2023-03-12T15:27:33.806637Z",
     "iopub.status.busy": "2023-03-12T15:27:33.806224Z",
     "iopub.status.idle": "2023-03-12T15:27:33.813465Z",
     "shell.execute_reply": "2023-03-12T15:27:33.812001Z"
    },
    "papermill": {
     "duration": 0.027698,
     "end_time": "2023-03-12T15:27:33.815978",
     "exception": false,
     "start_time": "2023-03-12T15:27:33.788280",
     "status": "completed"
    },
    "tags": []
   },
   "outputs": [],
   "source": [
    "numeric=[]\n",
    "for i in data.columns:\n",
    "    if data[i].dtype=='int64'or data[i].dtype=='float64' :\n",
    "        numeric.append(i)\n",
    "\n",
    "        \n",
    "\n",
    "        \n",
    "categoricals=[]\n",
    "for col in data.columns:\n",
    "    if not col in numeric:\n",
    "        categoricals.append(col)\n",
    "        "
   ]
  },
  {
   "cell_type": "code",
   "execution_count": 15,
   "id": "9ac8ed24",
   "metadata": {
    "execution": {
     "iopub.execute_input": "2023-03-12T15:27:33.850583Z",
     "iopub.status.busy": "2023-03-12T15:27:33.850187Z",
     "iopub.status.idle": "2023-03-12T15:27:34.318595Z",
     "shell.execute_reply": "2023-03-12T15:27:34.317284Z"
    },
    "papermill": {
     "duration": 0.488995,
     "end_time": "2023-03-12T15:27:34.321289",
     "exception": false,
     "start_time": "2023-03-12T15:27:33.832294",
     "status": "completed"
    },
    "tags": []
   },
   "outputs": [
    {
     "data": {
      "image/png": "[encoded data removed]",
      "text/plain": [
       "<Figure size 1440x1080 with 3 Axes>"
      ]
     },
     "metadata": {
      "needs_background": "light"
     },
     "output_type": "display_data"
    }
   ],
   "source": [
    "plt.figure(figsize = (20, 15))\n",
    "plotnumber = 1\n",
    "\n",
    "for column in numeric:\n",
    "    if plotnumber <= 14:\n",
    "        ax = plt.subplot(3, 5, plotnumber)\n",
    "        sns.boxplot(data[column],color=\"blue\")\n",
    "        plt.xlabel(column)\n",
    "        \n",
    "    plotnumber += 1\n",
    "\n",
    "plt.tight_layout()\n",
    "plt.show()"
   ]
  },
  {
   "cell_type": "markdown",
   "id": "425e2c13",
   "metadata": {
    "papermill": {
     "duration": 0.01637,
     "end_time": "2023-03-12T15:27:34.354481",
     "exception": false,
     "start_time": "2023-03-12T15:27:34.338111",
     "status": "completed"
    },
    "tags": []
   },
   "source": [
    "**replacing the outliers with nans for now**"
   ]
  },
  {
   "cell_type": "code",
   "execution_count": 16,
   "id": "3bed5b19",
   "metadata": {
    "execution": {
     "iopub.execute_input": "2023-03-12T15:27:34.391285Z",
     "iopub.status.busy": "2023-03-12T15:27:34.390181Z",
     "iopub.status.idle": "2023-03-12T15:27:34.398900Z",
     "shell.execute_reply": "2023-03-12T15:27:34.397688Z"
    },
    "papermill": {
     "duration": 0.030623,
     "end_time": "2023-03-12T15:27:34.401686",
     "exception": false,
     "start_time": "2023-03-12T15:27:34.371063",
     "status": "completed"
    },
    "tags": []
   },
   "outputs": [],
   "source": [
    "for x in ['Age']:\n",
    "    q75,q25 = np.percentile(data.loc[:,x],[75,25])\n",
    "    intr_qr = q75-q25\n",
    " \n",
    "    max = q75+(1.5*intr_qr)\n",
    "    min = q25-(1.5*intr_qr)\n",
    " \n",
    "    data.loc[data[x] < min,x] = np.nan\n",
    "    data.loc[data[x] > max,x] = np.nan"
   ]
  },
  {
   "cell_type": "code",
   "execution_count": 17,
   "id": "9ddc36b9",
   "metadata": {
    "execution": {
     "iopub.execute_input": "2023-03-12T15:27:34.437634Z",
     "iopub.status.busy": "2023-03-12T15:27:34.436749Z",
     "iopub.status.idle": "2023-03-12T15:27:34.451487Z",
     "shell.execute_reply": "2023-03-12T15:27:34.449925Z"
    },
    "papermill": {
     "duration": 0.03531,
     "end_time": "2023-03-12T15:27:34.454133",
     "exception": false,
     "start_time": "2023-03-12T15:27:34.418823",
     "status": "completed"
    },
    "tags": []
   },
   "outputs": [
    {
     "name": "stdout",
     "output_type": "stream",
     "text": [
      "<class 'pandas.core.frame.DataFrame'>\n",
      "RangeIndex: 1500 entries, 0 to 1499\n",
      "Data columns (total 14 columns):\n",
      " #   Column            Non-Null Count  Dtype  \n",
      "---  ------            --------------  -----  \n",
      " 0   Age               516 non-null    float64\n",
      " 1   Height            511 non-null    float64\n",
      " 2   Level of studies  511 non-null    float64\n",
      " 3   Voice type        571 non-null    object \n",
      " 4   accent            571 non-null    object \n",
      " 5   Hair color        571 non-null    object \n",
      " 6   glasses           571 non-null    object \n",
      " 7   Body type         571 non-null    object \n",
      " 8   Tattoos           571 non-null    object \n",
      " 9   Gender            571 non-null    object \n",
      " 10  PK                571 non-null    object \n",
      " 11  food              571 non-null    object \n",
      " 12  JobInvolvement    425 non-null    object \n",
      " 13  WorkLifeBalance   206 non-null    object \n",
      "dtypes: float64(3), object(11)\n",
      "memory usage: 164.2+ KB\n"
     ]
    }
   ],
   "source": [
    "data.info()"
   ]
  },
  {
   "cell_type": "code",
   "execution_count": 18,
   "id": "2f9a8b86",
   "metadata": {
    "execution": {
     "iopub.execute_input": "2023-03-12T15:27:34.489135Z",
     "iopub.status.busy": "2023-03-12T15:27:34.488746Z",
     "iopub.status.idle": "2023-03-12T15:27:34.502760Z",
     "shell.execute_reply": "2023-03-12T15:27:34.501612Z"
    },
    "papermill": {
     "duration": 0.035378,
     "end_time": "2023-03-12T15:27:34.506243",
     "exception": false,
     "start_time": "2023-03-12T15:27:34.470865",
     "status": "completed"
    },
    "tags": []
   },
   "outputs": [
    {
     "name": "stdout",
     "output_type": "stream",
     "text": [
      "unique values in \"Age\":\n",
      " [ nan  19.  49.  53.  21.  42.  22.  38.  55.  43.  26.  39.  32.  24.\n",
      "  54.  18.  34.  37.  27.  52.  46.  45.  36.  40.  20.  23.  35.  47.\n",
      "  51.  33.  28.  31.  50.  56.  48.  29. 150.  25.  44.  30.  41. -25.]\n",
      "unique values in \"Height\":\n",
      " [   nan 160.06 187.54 163.23 142.4  156.6  176.49 160.79 180.01 197.56\n",
      " 169.26 204.29 140.61 164.07 161.33 198.38 201.65 159.94 151.74 174.73\n",
      " 197.66 149.36 173.95 145.71 176.32 144.88 206.45 193.48 176.94 206.5\n",
      " 161.04 158.86 166.4  182.54 166.68 165.56 153.29 166.27 145.01 142.64\n",
      " 158.59 144.1  174.35 167.13 166.29 184.56 195.87 176.42 196.16 164.02\n",
      " 181.45 161.8  177.15 153.4  207.95 159.47 174.2  160.64 199.35 193.98\n",
      " 156.93 159.85 196.39 164.51 157.47 164.22 152.96 184.99 152.45 142.99\n",
      " 162.1  166.22 143.84 192.29 164.28 149.22 193.83 150.41 171.48 188.74\n",
      " 150.07 203.53 181.06 209.97 188.28 187.77 161.83 177.61 190.47 195.23\n",
      " 163.62 156.34 145.   207.42 151.49 189.23 151.3  207.44 155.14 179.76\n",
      " 154.97 196.46 158.95 140.59 162.73 209.33 190.09 148.3  177.46 153.85\n",
      " 185.74 141.45 140.19 159.54 180.84 165.88 171.12 191.99 194.44 148.2\n",
      " 152.13 203.6  165.21 162.83 141.99 141.17 162.02 146.71 207.61 141.31\n",
      " 151.06 185.78 167.27 156.56 172.11 156.74 154.55 160.07 163.7  170.6\n",
      " 166.82 183.7  141.4  164.58 157.87 160.4  187.26 206.72 201.86 148.61\n",
      " 162.94 204.35 166.41 156.19 179.87 208.37 178.64 208.84 204.05 160.19\n",
      " 168.29 155.6  155.37 192.49 169.62 149.83 143.32 189.35 148.68 152.57\n",
      " 153.54 150.44 168.46 175.35 167.4  167.46 155.28 167.64 180.93 140.54\n",
      " 147.93 201.51 141.04 184.13 192.95 161.78 176.25 166.7  145.35 156.79\n",
      " 160.92 188.13 156.62 166.33 201.2  163.53 147.03 170.24 201.57 154.44\n",
      " 204.28 180.89 159.04 180.17 167.58 169.97 207.67 144.45 187.37 148.46\n",
      " 148.93 143.39 144.61 201.05 172.33 148.02 158.14 181.41 141.08 189.97\n",
      " 158.33 165.48 169.78 144.95 163.98 183.57 150.54 154.69 162.58 204.51\n",
      " 171.76 158.62 156.96 161.35 151.47 204.88 171.06 165.45 170.79 206.69\n",
      " 151.42 176.99 143.5  145.18 162.31 203.8  143.56 166.37 206.27 177.58\n",
      " 143.89 188.84 145.44 142.88 142.55 190.9  162.12 142.02 148.64 149.12\n",
      " 162.07 192.91 148.7  186.1  167.48 203.   181.21 197.37 140.65 208.89\n",
      " 175.98 142.06 144.96 144.68 154.68 185.12 146.23 177.63 148.1  196.89\n",
      " 186.41 154.29 184.66 157.2  190.78 201.35 204.07 186.77 142.83 145.91\n",
      " 161.65 199.15 184.68 148.79 160.52 173.55 158.43 185.56 143.61 181.95\n",
      " 167.21 194.73 195.2  142.81 162.53 164.82 148.08 152.49 188.51 207.46\n",
      " 166.54 153.43 151.44 147.12 182.82 156.75 165.98 160.27 163.96 141.2\n",
      " 156.49 156.9  191.98 157.43 173.54 168.21 200.26 153.34 199.28 191.68\n",
      " 157.25 163.39 184.77 150.65 142.26 158.41 194.78 198.71 160.29 150.2\n",
      " 155.85 141.1  155.19 199.82 157.89 209.6  175.39 205.04 163.9  143.53\n",
      " 193.37 176.08 155.86 141.49 166.02 165.3  181.26 144.19 156.41 144.6\n",
      " 162.97 172.65 173.81 141.15 159.86 162.74 193.25 154.39 198.94 141.8\n",
      " 156.27 177.34 166.35 164.35 196.02 154.57 188.62 146.03 151.88 208.1\n",
      " 152.08 166.42 164.01 189.3  158.72 183.85 167.69 184.83 165.59 143.48\n",
      " 205.07 146.32 154.96 146.09 157.44 192.11 152.81 188.67 180.15 147.65\n",
      " 162.71 167.09 165.55 143.24 186.13 142.93 144.37 208.28 159.18 192.3\n",
      " 198.89 156.07 151.02 184.95 154.05 202.68 162.63 145.27 148.06 162.95\n",
      " 161.36 179.91 168.2  203.97 142.54 146.6  174.89 141.61 196.55 174.01\n",
      " 175.8  179.25 198.16 140.78 183.54 153.67 171.21 152.01 197.78 144.85\n",
      " 183.01 142.71 180.42 145.93 202.25 149.04 147.02 166.57 144.53 188.01\n",
      " 174.8  152.29 175.9  166.1  176.79 157.49 166.23 144.86 156.06 156.81\n",
      " 153.59 202.4  151.27 161.37 145.53 201.54 142.69 164.78 178.01 200.94\n",
      " 153.15 164.41 178.05 164.5  205.35 197.93 151.22 194.29 143.9  177.05\n",
      " 180.13 155.02 170.35 168.01 160.45 181.75 151.41 141.72 148.39 154.84\n",
      " 170.89]\n",
      "unique values in \"Level of studies\":\n",
      " [  nan    6.    3.    8.    7.    0.    1.    5.    2.    4. 1000.  422.]\n",
      "unique values in \"Voice type\":\n",
      " [nan 'mid range' 'deep' 'high pitched']\n",
      "unique values in \"accent\":\n",
      " [nan 'Southern American' 'East Coast City Dialects' 'Boston' 'french'\n",
      " 'Northern Irish' 'Welsh' 'Midwestern American' 'Scottish' 'Cockney'\n",
      " 'Yorkshire' 'Italian' 'Canadian']\n",
      "unique values in \"Hair color\":\n",
      " [nan 'brown' 'white/gray' 'blond' 'black' 'dyed' 'red']\n",
      "unique values in \"glasses\":\n",
      " [nan 'Yes' 'No']\n",
      "unique values in \"Body type\":\n",
      " [nan 'mesomorph' 'ectomorph' 'endomorph']\n",
      "unique values in \"Tattoos\":\n",
      " [nan 'Yes' 'No' 'Yas']\n",
      "unique values in \"Gender\":\n",
      " [nan 'NB' 'M' 'F']\n",
      "unique values in \"PK\":\n",
      " [nan 'Yes' 'No']\n",
      "unique values in \"food\":\n",
      " [nan 'Burger' 'Pizaa' 'Hot Dogs' 'Pizza' 'Apple Pie']\n",
      "unique values in \"JobInvolvement\":\n",
      " [nan 'VeryHigh' 'Low' 'Medium' 'High']\n",
      "unique values in \"WorkLifeBalance\":\n",
      " [nan 'Bad' 'Good' 'great']\n"
     ]
    }
   ],
   "source": [
    "\n",
    "for i in data.columns:\n",
    "    print('unique values in \"{}\":\\n'.format(i),data[i].unique())"
   ]
  },
  {
   "cell_type": "code",
   "execution_count": 19,
   "id": "e3bcab85",
   "metadata": {
    "execution": {
     "iopub.execute_input": "2023-03-12T15:27:34.541966Z",
     "iopub.status.busy": "2023-03-12T15:27:34.541180Z",
     "iopub.status.idle": "2023-03-12T15:27:34.552426Z",
     "shell.execute_reply": "2023-03-12T15:27:34.551304Z"
    },
    "papermill": {
     "duration": 0.031584,
     "end_time": "2023-03-12T15:27:34.554698",
     "exception": false,
     "start_time": "2023-03-12T15:27:34.523114",
     "status": "completed"
    },
    "tags": []
   },
   "outputs": [
    {
     "data": {
      "text/plain": [
       "Age                  984\n",
       "Height               989\n",
       "Level of studies     989\n",
       "Voice type           929\n",
       "accent               929\n",
       "Hair color           929\n",
       "glasses              929\n",
       "Body type            929\n",
       "Tattoos              929\n",
       "Gender               929\n",
       "PK                   929\n",
       "food                 929\n",
       "JobInvolvement      1075\n",
       "WorkLifeBalance     1294\n",
       "dtype: int64"
      ]
     },
     "execution_count": 19,
     "metadata": {},
     "output_type": "execute_result"
    }
   ],
   "source": [
    "data.isna().sum()"
   ]
  },
  {
   "cell_type": "code",
   "execution_count": 20,
   "id": "42c954a0",
   "metadata": {
    "execution": {
     "iopub.execute_input": "2023-03-12T15:27:34.590635Z",
     "iopub.status.busy": "2023-03-12T15:27:34.590127Z",
     "iopub.status.idle": "2023-03-12T15:27:34.600500Z",
     "shell.execute_reply": "2023-03-12T15:27:34.598998Z"
    },
    "papermill": {
     "duration": 0.031513,
     "end_time": "2023-03-12T15:27:34.603293",
     "exception": false,
     "start_time": "2023-03-12T15:27:34.571780",
     "status": "completed"
    },
    "tags": []
   },
   "outputs": [],
   "source": [
    "for x in ['Height']:\n",
    "    q75,q25 = np.percentile(data.loc[:,x],[75,25])\n",
    "    intr_qr = q75-q25\n",
    " \n",
    "    max = q75+(1.5*intr_qr)\n",
    "    min = q25-(1.5*intr_qr)\n",
    " \n",
    "    data.loc[data[x] < min,x] = np.nan\n",
    "    data.loc[data[x] > max,x] = np.nan\n",
    "    \n"
   ]
  },
  {
   "cell_type": "code",
   "execution_count": 21,
   "id": "4c435250",
   "metadata": {
    "execution": {
     "iopub.execute_input": "2023-03-12T15:27:34.639708Z",
     "iopub.status.busy": "2023-03-12T15:27:34.639332Z",
     "iopub.status.idle": "2023-03-12T15:27:34.646829Z",
     "shell.execute_reply": "2023-03-12T15:27:34.645556Z"
    },
    "papermill": {
     "duration": 0.028493,
     "end_time": "2023-03-12T15:27:34.649177",
     "exception": false,
     "start_time": "2023-03-12T15:27:34.620684",
     "status": "completed"
    },
    "tags": []
   },
   "outputs": [],
   "source": [
    "for x in ['Level of studies']:\n",
    "    \n",
    " \n",
    "    \n",
    "    data.loc[data[x] >15,x] = np.nan\n",
    "    \n",
    "for x in ['Age']:\n",
    "    \n",
    " \n",
    "    \n",
    "    data.loc[data[x] <0,x] = np.nan"
   ]
  },
  {
   "cell_type": "code",
   "execution_count": 22,
   "id": "41662f53",
   "metadata": {
    "execution": {
     "iopub.execute_input": "2023-03-12T15:27:34.686832Z",
     "iopub.status.busy": "2023-03-12T15:27:34.686396Z",
     "iopub.status.idle": "2023-03-12T15:27:35.116682Z",
     "shell.execute_reply": "2023-03-12T15:27:35.115837Z"
    },
    "papermill": {
     "duration": 0.452025,
     "end_time": "2023-03-12T15:27:35.118809",
     "exception": false,
     "start_time": "2023-03-12T15:27:34.666784",
     "status": "completed"
    },
    "tags": []
   },
   "outputs": [
    {
     "data": {
      "image/png": "[encoded data removed]",
      "text/plain": [
       "<Figure size 1440x1080 with 3 Axes>"
      ]
     },
     "metadata": {
      "needs_background": "light"
     },
     "output_type": "display_data"
    }
   ],
   "source": [
    "plt.figure(figsize = (20, 15))\n",
    "plotnumber = 1\n",
    "\n",
    "for column in numeric:\n",
    "    if plotnumber <= 14:\n",
    "        ax = plt.subplot(3, 5, plotnumber)\n",
    "        sns.boxplot(data[column],color=\"blue\")\n",
    "        plt.xlabel(column)\n",
    "        \n",
    "    plotnumber += 1\n",
    "\n",
    "plt.tight_layout()\n",
    "plt.show()"
   ]
  },
  {
   "cell_type": "markdown",
   "id": "9e97e04c",
   "metadata": {
    "papermill": {
     "duration": 0.016767,
     "end_time": "2023-03-12T15:27:35.152462",
     "exception": false,
     "start_time": "2023-03-12T15:27:35.135695",
     "status": "completed"
    },
    "tags": []
   },
   "source": [
    "**data visualizing**"
   ]
  },
  {
   "cell_type": "code",
   "execution_count": 23,
   "id": "60fa9950",
   "metadata": {
    "execution": {
     "iopub.execute_input": "2023-03-12T15:27:35.188215Z",
     "iopub.status.busy": "2023-03-12T15:27:35.187756Z",
     "iopub.status.idle": "2023-03-12T15:27:36.265790Z",
     "shell.execute_reply": "2023-03-12T15:27:36.264628Z"
    },
    "papermill": {
     "duration": 1.098754,
     "end_time": "2023-03-12T15:27:36.268187",
     "exception": false,
     "start_time": "2023-03-12T15:27:35.169433",
     "status": "completed"
    },
    "tags": []
   },
   "outputs": [
    {
     "data": {
      "text/plain": [
       "Text(0.5, 0, 'jailexp')"
      ]
     },
     "execution_count": 23,
     "metadata": {},
     "output_type": "execute_result"
    },
    {
     "data": {
      "image/png": "[encoded data removed]",
      "text/plain": [
       "<Figure size 2160x2160 with 1 Axes>"
      ]
     },
     "metadata": {
      "needs_background": "light"
     },
     "output_type": "display_data"
    },
    {
     "data": {
      "image/png": "[encoded data removed]",
      "text/plain": [
       "<Figure size 2160x2160 with 1 Axes>"
      ]
     },
     "metadata": {
      "needs_background": "light"
     },
     "output_type": "display_data"
    },
    {
     "data": {
      "image/png": "[encoded data removed]",
      "text/plain": [
       "<Figure size 2160x2160 with 1 Axes>"
      ]
     },
     "metadata": {
      "needs_background": "light"
     },
     "output_type": "display_data"
    },
    {
     "data": {
      "image/png": "[encoded data removed]",
      "text/plain": [
       "<Figure size 2160x2160 with 1 Axes>"
      ]
     },
     "metadata": {
      "needs_background": "light"
     },
     "output_type": "display_data"
    }
   ],
   "source": [
    "plt.figure(figsize = (30, 30))\n",
    "ax = plt.subplot(4, 2, plotnumber)\n",
    "sns.distplot(data['Age'],color=\"red\")\n",
    "plt.xlabel('Age')\n",
    "\n",
    "plt.figure(figsize = (30, 30))\n",
    "ax = plt.subplot(4, 2 , plotnumber)\n",
    "plt.subplots_adjust(wspace=0.05)\n",
    "sns.distplot(data['Height'],color=\"blue\")\n",
    "plt.xlabel('Height')\n",
    "\n",
    "\n",
    "\n",
    "plt.figure(figsize = (30, 30))\n",
    "ax = plt.subplot(4, 2 , plotnumber)\n",
    "plt.subplots_adjust(wspace=0.05)\n",
    "sns.distplot(data['Level of studies'],color=\"red\")\n",
    "plt.xlabel('Level of studies')\n",
    "\n",
    "plt.figure(figsize = (30, 30))\n",
    "ax = plt.subplot(4, 2 , plotnumber)\n",
    "plt.subplots_adjust(wspace=0.05)\n",
    "sns.distplot(data['Level of studies'],color=\"red\")\n",
    "plt.xlabel('jailexp')\n",
    "\n"
   ]
  },
  {
   "cell_type": "markdown",
   "id": "f46b8da6",
   "metadata": {
    "papermill": {
     "duration": 0.018595,
     "end_time": "2023-03-12T15:27:36.306440",
     "exception": false,
     "start_time": "2023-03-12T15:27:36.287845",
     "status": "completed"
    },
    "tags": []
   },
   "source": [
    "in some features,the NAN aws detected as a value  "
   ]
  },
  {
   "cell_type": "code",
   "execution_count": 24,
   "id": "dfb5e570",
   "metadata": {
    "execution": {
     "iopub.execute_input": "2023-03-12T15:27:36.346712Z",
     "iopub.status.busy": "2023-03-12T15:27:36.346308Z",
     "iopub.status.idle": "2023-03-12T15:27:38.048586Z",
     "shell.execute_reply": "2023-03-12T15:27:38.047313Z"
    },
    "papermill": {
     "duration": 1.726259,
     "end_time": "2023-03-12T15:27:38.051392",
     "exception": false,
     "start_time": "2023-03-12T15:27:36.325133",
     "status": "completed"
    },
    "tags": []
   },
   "outputs": [
    {
     "data": {
      "image/png": "[encoded data removed]",
      "text/plain": [
       "<Figure size 1440x1440 with 11 Axes>"
      ]
     },
     "metadata": {
      "needs_background": "light"
     },
     "output_type": "display_data"
    }
   ],
   "source": [
    "plt.figure(figsize = (20, 20))#visualizing categoricals using countplots\n",
    "plotnumber = 1\n",
    "\n",
    "for column in categoricals:\n",
    "    if plotnumber <= 12:\n",
    "        ax = plt.subplot(3, 5, plotnumber)\n",
    "        sns.countplot(y=data[column], palette = 'magma') \n",
    "        plt.xlabel(column)\n",
    "        \n",
    "    plotnumber += 1\n",
    "\n",
    "plt.tight_layout()\n",
    "plt.show()"
   ]
  },
  {
   "cell_type": "markdown",
   "id": "3d0fe6fd",
   "metadata": {
    "papermill": {
     "duration": 0.019981,
     "end_time": "2023-03-12T15:27:38.092551",
     "exception": false,
     "start_time": "2023-03-12T15:27:38.072570",
     "status": "completed"
    },
    "tags": []
   },
   "source": [
    "**the numeric data isn't skewed so we are going to replace the missing values with mean-value and the categorical data is going to be replaced with mode**"
   ]
  },
  {
   "cell_type": "code",
   "execution_count": 25,
   "id": "cf2d8868",
   "metadata": {
    "execution": {
     "iopub.execute_input": "2023-03-12T15:27:38.135761Z",
     "iopub.status.busy": "2023-03-12T15:27:38.134976Z",
     "iopub.status.idle": "2023-03-12T15:27:38.141613Z",
     "shell.execute_reply": "2023-03-12T15:27:38.140605Z"
    },
    "papermill": {
     "duration": 0.031188,
     "end_time": "2023-03-12T15:27:38.144191",
     "exception": false,
     "start_time": "2023-03-12T15:27:38.113003",
     "status": "completed"
    },
    "tags": []
   },
   "outputs": [],
   "source": [
    "for column in numeric:\n",
    " data[column] = data[column].fillna(data[column].mean())"
   ]
  },
  {
   "cell_type": "code",
   "execution_count": 26,
   "id": "60d11208",
   "metadata": {
    "execution": {
     "iopub.execute_input": "2023-03-12T15:27:38.188477Z",
     "iopub.status.busy": "2023-03-12T15:27:38.188016Z",
     "iopub.status.idle": "2023-03-12T15:27:38.204223Z",
     "shell.execute_reply": "2023-03-12T15:27:38.203262Z"
    },
    "papermill": {
     "duration": 0.041611,
     "end_time": "2023-03-12T15:27:38.206713",
     "exception": false,
     "start_time": "2023-03-12T15:27:38.165102",
     "status": "completed"
    },
    "tags": []
   },
   "outputs": [],
   "source": [
    "for column in categoricals:\n",
    "  data[column] = data[column].fillna(data[column].mode()[0])"
   ]
  },
  {
   "cell_type": "code",
   "execution_count": 27,
   "id": "0d4d22c3",
   "metadata": {
    "execution": {
     "iopub.execute_input": "2023-03-12T15:27:38.250174Z",
     "iopub.status.busy": "2023-03-12T15:27:38.249289Z",
     "iopub.status.idle": "2023-03-12T15:27:38.260516Z",
     "shell.execute_reply": "2023-03-12T15:27:38.259524Z"
    },
    "papermill": {
     "duration": 0.03594,
     "end_time": "2023-03-12T15:27:38.262884",
     "exception": false,
     "start_time": "2023-03-12T15:27:38.226944",
     "status": "completed"
    },
    "tags": []
   },
   "outputs": [
    {
     "data": {
      "text/plain": [
       "Age                 0\n",
       "Height              0\n",
       "Level of studies    0\n",
       "Voice type          0\n",
       "accent              0\n",
       "Hair color          0\n",
       "glasses             0\n",
       "Body type           0\n",
       "Tattoos             0\n",
       "Gender              0\n",
       "PK                  0\n",
       "food                0\n",
       "JobInvolvement      0\n",
       "WorkLifeBalance     0\n",
       "dtype: int64"
      ]
     },
     "execution_count": 27,
     "metadata": {},
     "output_type": "execute_result"
    }
   ],
   "source": [
    "data.isnull().sum()"
   ]
  },
  {
   "cell_type": "markdown",
   "id": "72ae9b23",
   "metadata": {
    "papermill": {
     "duration": 0.020761,
     "end_time": "2023-03-12T15:27:38.304448",
     "exception": false,
     "start_time": "2023-03-12T15:27:38.283687",
     "status": "completed"
    },
    "tags": []
   },
   "source": [
    "**label encoder**"
   ]
  },
  {
   "cell_type": "code",
   "execution_count": 28,
   "id": "638383a7",
   "metadata": {
    "execution": {
     "iopub.execute_input": "2023-03-12T15:27:38.347705Z",
     "iopub.status.busy": "2023-03-12T15:27:38.346699Z",
     "iopub.status.idle": "2023-03-12T15:27:38.361906Z",
     "shell.execute_reply": "2023-03-12T15:27:38.360372Z"
    },
    "papermill": {
     "duration": 0.040068,
     "end_time": "2023-03-12T15:27:38.365031",
     "exception": false,
     "start_time": "2023-03-12T15:27:38.324963",
     "status": "completed"
    },
    "tags": []
   },
   "outputs": [],
   "source": [
    "from sklearn.preprocessing import LabelEncoder\n",
    "encoder = LabelEncoder()\n",
    "for col in categoricals:\n",
    "    data[col]=encoder.fit_transform(data[col])\n",
    "    \n",
    "lbdata=data"
   ]
  },
  {
   "cell_type": "markdown",
   "id": "9ffe0ffb",
   "metadata": {
    "papermill": {
     "duration": 0.01971,
     "end_time": "2023-03-12T15:27:38.405394",
     "exception": false,
     "start_time": "2023-03-12T15:27:38.385684",
     "status": "completed"
    },
    "tags": []
   },
   "source": [
    "**heatmap**"
   ]
  },
  {
   "cell_type": "code",
   "execution_count": 29,
   "id": "a9101412",
   "metadata": {
    "execution": {
     "iopub.execute_input": "2023-03-12T15:27:38.447658Z",
     "iopub.status.busy": "2023-03-12T15:27:38.446862Z",
     "iopub.status.idle": "2023-03-12T15:27:39.690859Z",
     "shell.execute_reply": "2023-03-12T15:27:39.689587Z"
    },
    "papermill": {
     "duration": 1.26814,
     "end_time": "2023-03-12T15:27:39.693701",
     "exception": false,
     "start_time": "2023-03-12T15:27:38.425561",
     "status": "completed"
    },
    "tags": []
   },
   "outputs": [
    {
     "data": {
      "text/plain": [
       "<AxesSubplot:>"
      ]
     },
     "execution_count": 29,
     "metadata": {},
     "output_type": "execute_result"
    },
    {
     "data": {
      "image/png": "[encoded data removed]",
      "text/plain": [
       "<Figure size 1440x1296 with 2 Axes>"
      ]
     },
     "metadata": {
      "needs_background": "light"
     },
     "output_type": "display_data"
    }
   ],
   "source": [
    "plt.figure(figsize=(20,18))\n",
    "sns.heatmap(data.corr(), annot=True,linewidths=.5, cmap=\"Purples\")"
   ]
  },
  {
   "cell_type": "markdown",
   "id": "e25e327a",
   "metadata": {
    "papermill": {
     "duration": 0.023025,
     "end_time": "2023-03-12T15:27:39.740823",
     "exception": false,
     "start_time": "2023-03-12T15:27:39.717798",
     "status": "completed"
    },
    "tags": []
   },
   "source": [
    "**Robust Scaling**"
   ]
  },
  {
   "cell_type": "code",
   "execution_count": 30,
   "id": "76976ddb",
   "metadata": {
    "execution": {
     "iopub.execute_input": "2023-03-12T15:27:39.788376Z",
     "iopub.status.busy": "2023-03-12T15:27:39.787733Z",
     "iopub.status.idle": "2023-03-12T15:27:39.826829Z",
     "shell.execute_reply": "2023-03-12T15:27:39.825657Z"
    },
    "papermill": {
     "duration": 0.065791,
     "end_time": "2023-03-12T15:27:39.829322",
     "exception": false,
     "start_time": "2023-03-12T15:27:39.763531",
     "status": "completed"
    },
    "tags": []
   },
   "outputs": [
    {
     "data": {
      "text/html": [
       "<div>\n",
       "<style scoped>\n",
       "    .dataframe tbody tr th:only-of-type {\n",
       "        vertical-align: middle;\n",
       "    }\n",
       "\n",
       "    .dataframe tbody tr th {\n",
       "        vertical-align: top;\n",
       "    }\n",
       "\n",
       "    .dataframe thead th {\n",
       "        text-align: right;\n",
       "    }\n",
       "</style>\n",
       "<table border=\"1\" class=\"dataframe\">\n",
       "  <thead>\n",
       "    <tr style=\"text-align: right;\">\n",
       "      <th></th>\n",
       "      <th>Age</th>\n",
       "      <th>Height</th>\n",
       "      <th>Level of studies</th>\n",
       "      <th>Voice type</th>\n",
       "      <th>accent</th>\n",
       "      <th>Hair color</th>\n",
       "      <th>glasses</th>\n",
       "      <th>Body type</th>\n",
       "      <th>Tattoos</th>\n",
       "      <th>Gender</th>\n",
       "      <th>PK</th>\n",
       "      <th>food</th>\n",
       "      <th>JobInvolvement</th>\n",
       "      <th>WorkLifeBalance</th>\n",
       "    </tr>\n",
       "  </thead>\n",
       "  <tbody>\n",
       "    <tr>\n",
       "      <th>0</th>\n",
       "      <td>0.000000</td>\n",
       "      <td>0.00000</td>\n",
       "      <td>0.000000</td>\n",
       "      <td>0.0</td>\n",
       "      <td>0.0</td>\n",
       "      <td>0.0</td>\n",
       "      <td>0.0</td>\n",
       "      <td>0.0</td>\n",
       "      <td>0.0</td>\n",
       "      <td>0.0</td>\n",
       "      <td>0.0</td>\n",
       "      <td>0.0</td>\n",
       "      <td>0.0</td>\n",
       "      <td>0.0</td>\n",
       "    </tr>\n",
       "    <tr>\n",
       "      <th>1</th>\n",
       "      <td>0.000000</td>\n",
       "      <td>0.00000</td>\n",
       "      <td>0.000000</td>\n",
       "      <td>0.0</td>\n",
       "      <td>0.0</td>\n",
       "      <td>0.0</td>\n",
       "      <td>0.0</td>\n",
       "      <td>0.0</td>\n",
       "      <td>0.0</td>\n",
       "      <td>0.0</td>\n",
       "      <td>0.0</td>\n",
       "      <td>0.0</td>\n",
       "      <td>0.0</td>\n",
       "      <td>0.0</td>\n",
       "    </tr>\n",
       "    <tr>\n",
       "      <th>2</th>\n",
       "      <td>0.000000</td>\n",
       "      <td>0.00000</td>\n",
       "      <td>0.000000</td>\n",
       "      <td>0.0</td>\n",
       "      <td>0.0</td>\n",
       "      <td>0.0</td>\n",
       "      <td>0.0</td>\n",
       "      <td>0.0</td>\n",
       "      <td>0.0</td>\n",
       "      <td>0.0</td>\n",
       "      <td>0.0</td>\n",
       "      <td>0.0</td>\n",
       "      <td>0.0</td>\n",
       "      <td>0.0</td>\n",
       "    </tr>\n",
       "    <tr>\n",
       "      <th>3</th>\n",
       "      <td>0.000000</td>\n",
       "      <td>-8.52456</td>\n",
       "      <td>1.640472</td>\n",
       "      <td>2.0</td>\n",
       "      <td>3.0</td>\n",
       "      <td>1.0</td>\n",
       "      <td>0.0</td>\n",
       "      <td>0.0</td>\n",
       "      <td>2.0</td>\n",
       "      <td>1.0</td>\n",
       "      <td>0.0</td>\n",
       "      <td>0.0</td>\n",
       "      <td>0.0</td>\n",
       "      <td>0.0</td>\n",
       "    </tr>\n",
       "    <tr>\n",
       "      <th>4</th>\n",
       "      <td>-14.149515</td>\n",
       "      <td>18.95544</td>\n",
       "      <td>-1.359528</td>\n",
       "      <td>0.0</td>\n",
       "      <td>-2.0</td>\n",
       "      <td>4.0</td>\n",
       "      <td>-1.0</td>\n",
       "      <td>-2.0</td>\n",
       "      <td>2.0</td>\n",
       "      <td>0.0</td>\n",
       "      <td>-1.0</td>\n",
       "      <td>2.0</td>\n",
       "      <td>0.0</td>\n",
       "      <td>0.0</td>\n",
       "    </tr>\n",
       "    <tr>\n",
       "      <th>...</th>\n",
       "      <td>...</td>\n",
       "      <td>...</td>\n",
       "      <td>...</td>\n",
       "      <td>...</td>\n",
       "      <td>...</td>\n",
       "      <td>...</td>\n",
       "      <td>...</td>\n",
       "      <td>...</td>\n",
       "      <td>...</td>\n",
       "      <td>...</td>\n",
       "      <td>...</td>\n",
       "      <td>...</td>\n",
       "      <td>...</td>\n",
       "      <td>...</td>\n",
       "    </tr>\n",
       "    <tr>\n",
       "      <th>1495</th>\n",
       "      <td>0.000000</td>\n",
       "      <td>0.00000</td>\n",
       "      <td>0.000000</td>\n",
       "      <td>0.0</td>\n",
       "      <td>0.0</td>\n",
       "      <td>0.0</td>\n",
       "      <td>0.0</td>\n",
       "      <td>0.0</td>\n",
       "      <td>0.0</td>\n",
       "      <td>0.0</td>\n",
       "      <td>0.0</td>\n",
       "      <td>0.0</td>\n",
       "      <td>0.0</td>\n",
       "      <td>0.0</td>\n",
       "    </tr>\n",
       "    <tr>\n",
       "      <th>1496</th>\n",
       "      <td>0.000000</td>\n",
       "      <td>0.00000</td>\n",
       "      <td>0.000000</td>\n",
       "      <td>0.0</td>\n",
       "      <td>0.0</td>\n",
       "      <td>0.0</td>\n",
       "      <td>0.0</td>\n",
       "      <td>0.0</td>\n",
       "      <td>0.0</td>\n",
       "      <td>0.0</td>\n",
       "      <td>0.0</td>\n",
       "      <td>0.0</td>\n",
       "      <td>0.0</td>\n",
       "      <td>0.0</td>\n",
       "    </tr>\n",
       "    <tr>\n",
       "      <th>1497</th>\n",
       "      <td>13.850485</td>\n",
       "      <td>-13.74456</td>\n",
       "      <td>2.640472</td>\n",
       "      <td>0.0</td>\n",
       "      <td>-2.0</td>\n",
       "      <td>4.0</td>\n",
       "      <td>0.0</td>\n",
       "      <td>-2.0</td>\n",
       "      <td>0.0</td>\n",
       "      <td>1.0</td>\n",
       "      <td>0.0</td>\n",
       "      <td>0.0</td>\n",
       "      <td>-1.0</td>\n",
       "      <td>-1.0</td>\n",
       "    </tr>\n",
       "    <tr>\n",
       "      <th>1498</th>\n",
       "      <td>-10.149515</td>\n",
       "      <td>2.30544</td>\n",
       "      <td>-1.359528</td>\n",
       "      <td>1.0</td>\n",
       "      <td>-5.0</td>\n",
       "      <td>0.0</td>\n",
       "      <td>-1.0</td>\n",
       "      <td>-2.0</td>\n",
       "      <td>2.0</td>\n",
       "      <td>1.0</td>\n",
       "      <td>-1.0</td>\n",
       "      <td>0.0</td>\n",
       "      <td>0.0</td>\n",
       "      <td>0.0</td>\n",
       "    </tr>\n",
       "    <tr>\n",
       "      <th>1499</th>\n",
       "      <td>0.000000</td>\n",
       "      <td>0.00000</td>\n",
       "      <td>0.000000</td>\n",
       "      <td>0.0</td>\n",
       "      <td>0.0</td>\n",
       "      <td>0.0</td>\n",
       "      <td>0.0</td>\n",
       "      <td>0.0</td>\n",
       "      <td>0.0</td>\n",
       "      <td>0.0</td>\n",
       "      <td>0.0</td>\n",
       "      <td>0.0</td>\n",
       "      <td>0.0</td>\n",
       "      <td>0.0</td>\n",
       "    </tr>\n",
       "  </tbody>\n",
       "</table>\n",
       "<p>1500 rows × 14 columns</p>\n",
       "</div>"
      ],
      "text/plain": [
       "            Age    Height  Level of studies  Voice type  accent  Hair color  \\\n",
       "0      0.000000   0.00000          0.000000         0.0     0.0         0.0   \n",
       "1      0.000000   0.00000          0.000000         0.0     0.0         0.0   \n",
       "2      0.000000   0.00000          0.000000         0.0     0.0         0.0   \n",
       "3      0.000000  -8.52456          1.640472         2.0     3.0         1.0   \n",
       "4    -14.149515  18.95544         -1.359528         0.0    -2.0         4.0   \n",
       "...         ...       ...               ...         ...     ...         ...   \n",
       "1495   0.000000   0.00000          0.000000         0.0     0.0         0.0   \n",
       "1496   0.000000   0.00000          0.000000         0.0     0.0         0.0   \n",
       "1497  13.850485 -13.74456          2.640472         0.0    -2.0         4.0   \n",
       "1498 -10.149515   2.30544         -1.359528         1.0    -5.0         0.0   \n",
       "1499   0.000000   0.00000          0.000000         0.0     0.0         0.0   \n",
       "\n",
       "      glasses  Body type  Tattoos  Gender   PK  food  JobInvolvement  \\\n",
       "0         0.0        0.0      0.0     0.0  0.0   0.0             0.0   \n",
       "1         0.0        0.0      0.0     0.0  0.0   0.0             0.0   \n",
       "2         0.0        0.0      0.0     0.0  0.0   0.0             0.0   \n",
       "3         0.0        0.0      2.0     1.0  0.0   0.0             0.0   \n",
       "4        -1.0       -2.0      2.0     0.0 -1.0   2.0             0.0   \n",
       "...       ...        ...      ...     ...  ...   ...             ...   \n",
       "1495      0.0        0.0      0.0     0.0  0.0   0.0             0.0   \n",
       "1496      0.0        0.0      0.0     0.0  0.0   0.0             0.0   \n",
       "1497      0.0       -2.0      0.0     1.0  0.0   0.0            -1.0   \n",
       "1498     -1.0       -2.0      2.0     1.0 -1.0   0.0             0.0   \n",
       "1499      0.0        0.0      0.0     0.0  0.0   0.0             0.0   \n",
       "\n",
       "      WorkLifeBalance  \n",
       "0                 0.0  \n",
       "1                 0.0  \n",
       "2                 0.0  \n",
       "3                 0.0  \n",
       "4                 0.0  \n",
       "...               ...  \n",
       "1495              0.0  \n",
       "1496              0.0  \n",
       "1497             -1.0  \n",
       "1498              0.0  \n",
       "1499              0.0  \n",
       "\n",
       "[1500 rows x 14 columns]"
      ]
     },
     "execution_count": 30,
     "metadata": {},
     "output_type": "execute_result"
    }
   ],
   "source": [
    "from sklearn.preprocessing import RobustScaler\n",
    "RS=RobustScaler()\n",
    "arr = RS.fit_transform(data)\n",
    "Rscaled_data = pd.DataFrame(arr, columns=data.columns)\n",
    "Rscaled_data"
   ]
  },
  {
   "cell_type": "markdown",
   "id": "1fe4cc4d",
   "metadata": {
    "papermill": {
     "duration": 0.022556,
     "end_time": "2023-03-12T15:27:39.874919",
     "exception": false,
     "start_time": "2023-03-12T15:27:39.852363",
     "status": "completed"
    },
    "tags": []
   },
   "source": [
    "# Modeling"
   ]
  },
  {
   "cell_type": "markdown",
   "id": "55de79ca",
   "metadata": {
    "papermill": {
     "duration": 0.022908,
     "end_time": "2023-03-12T15:27:39.921802",
     "exception": false,
     "start_time": "2023-03-12T15:27:39.898894",
     "status": "completed"
    },
    "tags": []
   },
   "source": [
    "**logistic regression**"
   ]
  },
  {
   "cell_type": "code",
   "execution_count": 31,
   "id": "97594819",
   "metadata": {
    "execution": {
     "iopub.execute_input": "2023-03-12T15:27:39.969303Z",
     "iopub.status.busy": "2023-03-12T15:27:39.968863Z",
     "iopub.status.idle": "2023-03-12T15:27:40.027947Z",
     "shell.execute_reply": "2023-03-12T15:27:40.026021Z"
    },
    "papermill": {
     "duration": 0.089951,
     "end_time": "2023-03-12T15:27:40.034544",
     "exception": false,
     "start_time": "2023-03-12T15:27:39.944593",
     "status": "completed"
    },
    "tags": []
   },
   "outputs": [
    {
     "name": "stdout",
     "output_type": "stream",
     "text": [
      "Logistic Regression accuracy score with all the features: 0.9967\n",
      "              precision    recall  f1-score   support\n",
      "\n",
      "        -1.0       1.00      0.98      0.99        47\n",
      "         0.0       1.00      1.00      1.00       253\n",
      "\n",
      "    accuracy                           1.00       300\n",
      "   macro avg       1.00      0.99      0.99       300\n",
      "weighted avg       1.00      1.00      1.00       300\n",
      "\n"
     ]
    }
   ],
   "source": [
    "\n",
    "from sklearn.model_selection import train_test_split\n",
    "from sklearn.metrics import accuracy_score\n",
    "from sklearn.metrics import classification_report\n",
    "\n",
    "y = Rscaled_data['PK']\n",
    "X = Rscaled_data.drop(['PK'], axis=1)\n",
    "X_train, X_test, y_train, y_test = train_test_split(X, y, test_size = 0.2, random_state = 0)\n",
    "from sklearn.linear_model import LogisticRegression\n",
    "from sklearn.metrics import accuracy_score\n",
    "\n",
    "logreg = LogisticRegression()\n",
    "logreg.fit(X_train, y_train)\n",
    "y_pred = logreg.predict(X_test)\n",
    "\n",
    "print('Logistic Regression accuracy score with all the features: {0:0.4f}'. format(accuracy_score(y_test, y_pred)))\n",
    "print(classification_report(y_test, y_pred))\n",
    "\n"
   ]
  },
  {
   "cell_type": "code",
   "execution_count": 32,
   "id": "68d4f7ae",
   "metadata": {
    "execution": {
     "iopub.execute_input": "2023-03-12T15:27:40.138259Z",
     "iopub.status.busy": "2023-03-12T15:27:40.137830Z",
     "iopub.status.idle": "2023-03-12T15:27:40.165864Z",
     "shell.execute_reply": "2023-03-12T15:27:40.164169Z"
    },
    "papermill": {
     "duration": 0.079753,
     "end_time": "2023-03-12T15:27:40.171835",
     "exception": false,
     "start_time": "2023-03-12T15:27:40.092082",
     "status": "completed"
    },
    "tags": []
   },
   "outputs": [
    {
     "name": "stdout",
     "output_type": "stream",
     "text": [
      "13\n"
     ]
    },
    {
     "data": {
      "text/plain": [
       "array([7.91235655e-01, 1.69225619e-01, 1.19574166e-02, 8.77228977e-03,\n",
       "       5.07452421e-03, 4.23843349e-03, 2.77334000e-03, 1.99027375e-03,\n",
       "       1.50840532e-03, 1.13946482e-03, 1.01217749e-03, 6.23020449e-04,\n",
       "       4.49380333e-04])"
      ]
     },
     "execution_count": 32,
     "metadata": {},
     "output_type": "execute_result"
    }
   ],
   "source": [
    "from sklearn.decomposition import PCA\n",
    "pca = PCA(svd_solver='full')\n",
    "#apply\n",
    "X_train = pca.fit_transform(X_train)\n",
    "#number of components\n",
    "print(pca.n_components_) \n",
    "pca.explained_variance_ratio_"
   ]
  },
  {
   "cell_type": "code",
   "execution_count": 33,
   "id": "6dd361c3",
   "metadata": {
    "execution": {
     "iopub.execute_input": "2023-03-12T15:27:40.282934Z",
     "iopub.status.busy": "2023-03-12T15:27:40.281687Z",
     "iopub.status.idle": "2023-03-12T15:27:40.624717Z",
     "shell.execute_reply": "2023-03-12T15:27:40.623837Z"
    },
    "papermill": {
     "duration": 0.396806,
     "end_time": "2023-03-12T15:27:40.627170",
     "exception": false,
     "start_time": "2023-03-12T15:27:40.230364",
     "status": "completed"
    },
    "tags": []
   },
   "outputs": [
    {
     "name": "stdout",
     "output_type": "stream",
     "text": [
      "Logistic Regression accuracy score with the first 16 features: 0.9978\n",
      "              precision    recall  f1-score   support\n",
      "\n",
      "        -1.0       1.00      0.99      0.99        69\n",
      "         0.0       1.00      1.00      1.00       381\n",
      "\n",
      "    accuracy                           1.00       450\n",
      "   macro avg       1.00      0.99      1.00       450\n",
      "weighted avg       1.00      1.00      1.00       450\n",
      "\n"
     ]
    },
    {
     "data": {
      "image/png": "[encoded data removed]",
      "text/plain": [
       "<Figure size 432x288 with 2 Axes>"
      ]
     },
     "metadata": {
      "needs_background": "light"
     },
     "output_type": "display_data"
    }
   ],
   "source": [
    "y = Rscaled_data['PK']\n",
    "X = Rscaled_data.drop(['PK'], axis=1)\n",
    "X_train, X_test, y_train, y_test = train_test_split(X, y, test_size = 0.3, random_state = 0)\n",
    "X_train, X_test, y_train, y_test = train_test_split(X, y, test_size = 0.3, random_state = 0)\n",
    "logreg = LogisticRegression()\n",
    "logreg.fit(X_train, y_train)\n",
    "y_pred = logreg.predict(X_test)\n",
    "\n",
    "print('Logistic Regression accuracy score with the first 16 features: {0:0.4f}'. format(accuracy_score(y_test, y_pred)))\n",
    "print(classification_report(y_test, y_pred))\n",
    "\n",
    "plot_confusion_matrix(logreg, X_test, y_test, cmap=plt.cm.Blues)\n",
    "plt.show()"
   ]
  },
  {
   "cell_type": "markdown",
   "id": "f4312542",
   "metadata": {
    "papermill": {
     "duration": 0.023169,
     "end_time": "2023-03-12T15:27:40.674568",
     "exception": false,
     "start_time": "2023-03-12T15:27:40.651399",
     "status": "completed"
    },
    "tags": []
   },
   "source": [
    "**decision tree**"
   ]
  },
  {
   "cell_type": "code",
   "execution_count": 34,
   "id": "0f685ae0",
   "metadata": {
    "execution": {
     "iopub.execute_input": "2023-03-12T15:27:40.723877Z",
     "iopub.status.busy": "2023-03-12T15:27:40.723095Z",
     "iopub.status.idle": "2023-03-12T15:27:41.151514Z",
     "shell.execute_reply": "2023-03-12T15:27:41.150011Z"
    },
    "papermill": {
     "duration": 0.456359,
     "end_time": "2023-03-12T15:27:41.154281",
     "exception": false,
     "start_time": "2023-03-12T15:27:40.697922",
     "status": "completed"
    },
    "tags": []
   },
   "outputs": [
    {
     "name": "stdout",
     "output_type": "stream",
     "text": [
      " train score  : 1.0\n",
      " test score  : 0.9933333333333333\n"
     ]
    },
    {
     "data": {
      "image/png": "[encoded data removed]",
      "text/plain": [
       "<Figure size 432x288 with 2 Axes>"
      ]
     },
     "metadata": {
      "needs_background": "light"
     },
     "output_type": "display_data"
    }
   ],
   "source": [
    "from imblearn.over_sampling import SMOTE\n",
    "oversample = SMOTE()\n",
    "X_train_res, y_train_res = oversample.fit_resample(X_train, y_train)\n",
    "knn = KNeighborsClassifier()\n",
    "knn.fit(X_train_res, y_train_res)\n",
    "from sklearn.tree import DecisionTreeClassifier \n",
    "y = Rscaled_data['PK']\n",
    "X = Rscaled_data.drop(['PK'], axis=1)\n",
    "\n",
    "oversample = SMOTE()\n",
    "X_train_res, y_train_res = oversample.fit_resample(X_train, y_train)\n",
    "X\n",
    "\n",
    "dt = DecisionTreeClassifier()\n",
    "dtree = dt.fit(X_train_res,y_train_res)\n",
    "y_pred_dt = dt.predict(X_test)\n",
    "print(' train score  :', dt.score(X_train_res, y_train_res))\n",
    "print(' test score  :', dt.score(X_test, y_test))\n",
    "\n",
    "from sklearn.metrics import plot_confusion_matrix\n",
    "plot_confusion_matrix(dt, X_test, y_test, cmap=plt.cm.Blues)\n",
    "plt.show()"
   ]
  },
  {
   "cell_type": "markdown",
   "id": "5f44d9ef",
   "metadata": {
    "papermill": {
     "duration": 0.025609,
     "end_time": "2023-03-12T15:27:41.204410",
     "exception": false,
     "start_time": "2023-03-12T15:27:41.178801",
     "status": "completed"
    },
    "tags": []
   },
   "source": [
    "**KNN Classifier**"
   ]
  },
  {
   "cell_type": "code",
   "execution_count": 35,
   "id": "6046588a",
   "metadata": {
    "execution": {
     "iopub.execute_input": "2023-03-12T15:27:41.257983Z",
     "iopub.status.busy": "2023-03-12T15:27:41.257574Z",
     "iopub.status.idle": "2023-03-12T15:27:41.551599Z",
     "shell.execute_reply": "2023-03-12T15:27:41.550282Z"
    },
    "papermill": {
     "duration": 0.324333,
     "end_time": "2023-03-12T15:27:41.554310",
     "exception": false,
     "start_time": "2023-03-12T15:27:41.229977",
     "status": "completed"
    },
    "tags": []
   },
   "outputs": [
    {
     "name": "stdout",
     "output_type": "stream",
     "text": [
      "              precision    recall  f1-score   support\n",
      "\n",
      "        -1.0       1.00      0.97      0.99        69\n",
      "         0.0       0.99      1.00      1.00       381\n",
      "\n",
      "    accuracy                           1.00       450\n",
      "   macro avg       1.00      0.99      0.99       450\n",
      "weighted avg       1.00      1.00      1.00       450\n",
      "\n"
     ]
    },
    {
     "data": {
      "image/png": "[encoded data removed]",
      "text/plain": [
       "<Figure size 432x288 with 2 Axes>"
      ]
     },
     "metadata": {
      "needs_background": "light"
     },
     "output_type": "display_data"
    }
   ],
   "source": [
    "from sklearn.neighbors import KNeighborsClassifier\n",
    "y = Rscaled_data['PK']\n",
    "X = Rscaled_data.drop(['PK'], axis=1)\n",
    "X_train, X_test, y_train, y_test = train_test_split(X, y, test_size = 0.3, random_state = 0)\n",
    "# model fit\n",
    "knn = KNeighborsClassifier()\n",
    "knn.fit(X_train, y_train)\n",
    "\n",
    "# prediction\n",
    "preds = knn.predict(X_test)\n",
    "print(classification_report(y_test, preds))\n",
    "from sklearn.metrics import plot_confusion_matrix\n",
    "plot_confusion_matrix(knn, X_test, y_test, cmap=plt.cm.Blues)\n",
    "plt.show()\n"
   ]
  },
  {
   "cell_type": "markdown",
   "id": "9d18463b",
   "metadata": {
    "papermill": {
     "duration": 0.02764,
     "end_time": "2023-03-12T15:27:41.607442",
     "exception": false,
     "start_time": "2023-03-12T15:27:41.579802",
     "status": "completed"
    },
    "tags": []
   },
   "source": [
    "**SVC**"
   ]
  },
  {
   "cell_type": "code",
   "execution_count": 36,
   "id": "5ddd1cf9",
   "metadata": {
    "execution": {
     "iopub.execute_input": "2023-03-12T15:27:41.660276Z",
     "iopub.status.busy": "2023-03-12T15:27:41.659798Z",
     "iopub.status.idle": "2023-03-12T15:27:41.965579Z",
     "shell.execute_reply": "2023-03-12T15:27:41.964082Z"
    },
    "papermill": {
     "duration": 0.335624,
     "end_time": "2023-03-12T15:27:41.968373",
     "exception": false,
     "start_time": "2023-03-12T15:27:41.632749",
     "status": "completed"
    },
    "tags": []
   },
   "outputs": [
    {
     "name": "stdout",
     "output_type": "stream",
     "text": [
      "              precision    recall  f1-score   support\n",
      "\n",
      "        -1.0       1.00      0.83      0.90        69\n",
      "         0.0       0.97      1.00      0.98       381\n",
      "\n",
      "    accuracy                           0.97       450\n",
      "   macro avg       0.98      0.91      0.94       450\n",
      "weighted avg       0.97      0.97      0.97       450\n",
      "\n"
     ]
    },
    {
     "data": {
      "image/png": "[encoded data removed]",
      "text/plain": [
       "<Figure size 432x288 with 2 Axes>"
      ]
     },
     "metadata": {
      "needs_background": "light"
     },
     "output_type": "display_data"
    }
   ],
   "source": [
    "from sklearn.svm import SVC\n",
    "# model fit\n",
    "knn = SVC(gamma=0.1, C=1000)\n",
    "knn.fit(X_train, y_train)\n",
    "\n",
    "# prediction\n",
    "preds = knn.predict(X_test)\n",
    "print(classification_report(y_test, preds))\n",
    "from sklearn.metrics import plot_confusion_matrix\n",
    "plot_confusion_matrix(knn, X_test, y_test, cmap=plt.cm.Blues)\n",
    "plt.show()"
   ]
  },
  {
   "cell_type": "markdown",
   "id": "cb7e388e",
   "metadata": {
    "papermill": {
     "duration": 0.023986,
     "end_time": "2023-03-12T15:27:42.017200",
     "exception": false,
     "start_time": "2023-03-12T15:27:41.993214",
     "status": "completed"
    },
    "tags": []
   },
   "source": [
    "**Naive bayes**"
   ]
  },
  {
   "cell_type": "code",
   "execution_count": 37,
   "id": "560fbf59",
   "metadata": {
    "execution": {
     "iopub.execute_input": "2023-03-12T15:27:42.068905Z",
     "iopub.status.busy": "2023-03-12T15:27:42.068466Z",
     "iopub.status.idle": "2023-03-12T15:27:42.318623Z",
     "shell.execute_reply": "2023-03-12T15:27:42.317396Z"
    },
    "papermill": {
     "duration": 0.279983,
     "end_time": "2023-03-12T15:27:42.321814",
     "exception": false,
     "start_time": "2023-03-12T15:27:42.041831",
     "status": "completed"
    },
    "tags": []
   },
   "outputs": [
    {
     "name": "stdout",
     "output_type": "stream",
     "text": [
      "              precision    recall  f1-score   support\n",
      "\n",
      "        -1.0       0.81      1.00      0.90        69\n",
      "         0.0       1.00      0.96      0.98       381\n",
      "\n",
      "    accuracy                           0.96       450\n",
      "   macro avg       0.91      0.98      0.94       450\n",
      "weighted avg       0.97      0.96      0.97       450\n",
      "\n"
     ]
    },
    {
     "data": {
      "image/png": "[encoded data removed]",
      "text/plain": [
       "<Figure size 432x288 with 2 Axes>"
      ]
     },
     "metadata": {
      "needs_background": "light"
     },
     "output_type": "display_data"
    }
   ],
   "source": [
    "# model fit\n",
    "knn = GaussianNB()\n",
    "knn.fit(X_train, y_train)\n",
    "\n",
    "# prediction\n",
    "preds = knn.predict(X_test)\n",
    "print(classification_report(y_test, preds))\n",
    "\n",
    "\n",
    "plot_confusion_matrix(knn, X_test, y_test, cmap=plt.cm.Blues)\n",
    "plt.show()"
   ]
  },
  {
   "cell_type": "markdown",
   "id": "7601a57c",
   "metadata": {
    "papermill": {
     "duration": 0.024506,
     "end_time": "2023-03-12T15:27:42.372223",
     "exception": false,
     "start_time": "2023-03-12T15:27:42.347717",
     "status": "completed"
    },
    "tags": []
   },
   "source": [
    "**Randomforest**"
   ]
  },
  {
   "cell_type": "code",
   "execution_count": 38,
   "id": "66b6f453",
   "metadata": {
    "execution": {
     "iopub.execute_input": "2023-03-12T15:27:42.424185Z",
     "iopub.status.busy": "2023-03-12T15:27:42.423472Z",
     "iopub.status.idle": "2023-03-12T15:27:42.875443Z",
     "shell.execute_reply": "2023-03-12T15:27:42.874374Z"
    },
    "papermill": {
     "duration": 0.481138,
     "end_time": "2023-03-12T15:27:42.878226",
     "exception": false,
     "start_time": "2023-03-12T15:27:42.397088",
     "status": "completed"
    },
    "tags": []
   },
   "outputs": [
    {
     "name": "stdout",
     "output_type": "stream",
     "text": [
      "              precision    recall  f1-score   support\n",
      "\n",
      "        -1.0       1.00      0.99      0.99        69\n",
      "         0.0       1.00      1.00      1.00       381\n",
      "\n",
      "    accuracy                           1.00       450\n",
      "   macro avg       1.00      0.99      1.00       450\n",
      "weighted avg       1.00      1.00      1.00       450\n",
      "\n"
     ]
    },
    {
     "data": {
      "image/png": "[encoded data removed]",
      "text/plain": [
       "<Figure size 432x288 with 2 Axes>"
      ]
     },
     "metadata": {
      "needs_background": "light"
     },
     "output_type": "display_data"
    }
   ],
   "source": [
    "# model fit\n",
    "knn = RandomForestClassifier()\n",
    "knn.fit(X_train, y_train)\n",
    "\n",
    "# prediction\n",
    "preds = knn.predict(X_test)\n",
    "print(classification_report(y_test, preds))\n",
    "\n",
    "plot_confusion_matrix(knn, X_test, y_test, cmap=plt.cm.Blues)\n",
    "plt.show()"
   ]
  },
  {
   "cell_type": "markdown",
   "id": "f2f8db3e",
   "metadata": {
    "papermill": {
     "duration": 0.024629,
     "end_time": "2023-03-12T15:27:42.928960",
     "exception": false,
     "start_time": "2023-03-12T15:27:42.904331",
     "status": "completed"
    },
    "tags": []
   },
   "source": [
    "**adaboost**"
   ]
  },
  {
   "cell_type": "code",
   "execution_count": 39,
   "id": "929cecae",
   "metadata": {
    "execution": {
     "iopub.execute_input": "2023-03-12T15:27:42.982483Z",
     "iopub.status.busy": "2023-03-12T15:27:42.982042Z",
     "iopub.status.idle": "2023-03-12T15:27:43.384062Z",
     "shell.execute_reply": "2023-03-12T15:27:43.382322Z"
    },
    "papermill": {
     "duration": 0.432465,
     "end_time": "2023-03-12T15:27:43.387253",
     "exception": false,
     "start_time": "2023-03-12T15:27:42.954788",
     "status": "completed"
    },
    "tags": []
   },
   "outputs": [
    {
     "name": "stdout",
     "output_type": "stream",
     "text": [
      "              precision    recall  f1-score   support\n",
      "\n",
      "        -1.0       0.99      0.99      0.99        69\n",
      "         0.0       1.00      1.00      1.00       381\n",
      "\n",
      "    accuracy                           1.00       450\n",
      "   macro avg       0.99      0.99      0.99       450\n",
      "weighted avg       1.00      1.00      1.00       450\n",
      "\n",
      " train score  : 1.0\n",
      " test score  : 0.9955555555555555\n"
     ]
    },
    {
     "data": {
      "image/png": "[encoded data removed]",
      "text/plain": [
       "<Figure size 432x288 with 2 Axes>"
      ]
     },
     "metadata": {
      "needs_background": "light"
     },
     "output_type": "display_data"
    }
   ],
   "source": [
    "adb = AdaBoostClassifier()\n",
    "adb.fit(X_train, y_train)\n",
    "\n",
    "\n",
    "# prediction\n",
    "preds = adb.predict(X_test)\n",
    "print(classification_report(y_test, preds))\n",
    "print(' train score  :', adb.score(X_train, y_train))\n",
    "print(' test score  :', adb.score(X_test, y_test))\n",
    "plot_confusion_matrix(adb, X_test, y_test, cmap=plt.cm.Blues)\n",
    "plt.show()"
   ]
  },
  {
   "cell_type": "markdown",
   "id": "dc84ae2c",
   "metadata": {
    "papermill": {
     "duration": 0.025304,
     "end_time": "2023-03-12T15:27:43.439727",
     "exception": false,
     "start_time": "2023-03-12T15:27:43.414423",
     "status": "completed"
    },
    "tags": []
   },
   "source": [
    "**KNN WITH SMOTE**"
   ]
  },
  {
   "cell_type": "code",
   "execution_count": 40,
   "id": "f54ccdd4",
   "metadata": {
    "execution": {
     "iopub.execute_input": "2023-03-12T15:27:43.493285Z",
     "iopub.status.busy": "2023-03-12T15:27:43.492168Z",
     "iopub.status.idle": "2023-03-12T15:27:44.029313Z",
     "shell.execute_reply": "2023-03-12T15:27:44.028085Z"
    },
    "papermill": {
     "duration": 0.566628,
     "end_time": "2023-03-12T15:27:44.031888",
     "exception": false,
     "start_time": "2023-03-12T15:27:43.465260",
     "status": "completed"
    },
    "tags": []
   },
   "outputs": [
    {
     "name": "stdout",
     "output_type": "stream",
     "text": [
      "              precision    recall  f1-score   support\n",
      "\n",
      "        -1.0       0.97      0.99      0.98        69\n",
      "         0.0       1.00      0.99      1.00       381\n",
      "\n",
      "    accuracy                           0.99       450\n",
      "   macro avg       0.98      0.99      0.99       450\n",
      "weighted avg       0.99      0.99      0.99       450\n",
      "\n",
      " train score  : 0.9961904761904762\n",
      " test score  : 0.9933333333333333\n"
     ]
    },
    {
     "data": {
      "image/png": "[encoded data removed]",
      "text/plain": [
       "<Figure size 432x288 with 2 Axes>"
      ]
     },
     "metadata": {
      "needs_background": "light"
     },
     "output_type": "display_data"
    }
   ],
   "source": [
    "from imblearn.over_sampling import SMOTE\n",
    "oversample = SMOTE()\n",
    "X_train_res, y_train_res = oversample.fit_resample(X_train, y_train)\n",
    "knn = KNeighborsClassifier()\n",
    "knn.fit(X_train_res, y_train_res)\n",
    "\n",
    "# prediction\n",
    "preds = knn.predict(X_test)\n",
    "print(classification_report(y_test, preds))\n",
    "print(' train score  :', knn.score(X_train, y_train))\n",
    "print(' test score  :', knn.score(X_test, y_test))\n",
    "from sklearn.metrics import plot_confusion_matrix\n",
    "plot_confusion_matrix(knn, X_test, y_test, cmap=plt.cm.Blues)\n",
    "plt.show()"
   ]
  },
  {
   "cell_type": "markdown",
   "id": "8f94da71",
   "metadata": {
    "papermill": {
     "duration": 0.025819,
     "end_time": "2023-03-12T15:27:44.084225",
     "exception": false,
     "start_time": "2023-03-12T15:27:44.058406",
     "status": "completed"
    },
    "tags": []
   },
   "source": [
    "**XGBOOST**"
   ]
  },
  {
   "cell_type": "code",
   "execution_count": 41,
   "id": "98b2fa19",
   "metadata": {
    "execution": {
     "iopub.execute_input": "2023-03-12T15:27:44.137823Z",
     "iopub.status.busy": "2023-03-12T15:27:44.137413Z",
     "iopub.status.idle": "2023-03-12T15:27:46.581464Z",
     "shell.execute_reply": "2023-03-12T15:27:46.580434Z"
    },
    "papermill": {
     "duration": 2.474326,
     "end_time": "2023-03-12T15:27:46.584323",
     "exception": false,
     "start_time": "2023-03-12T15:27:44.109997",
     "status": "completed"
    },
    "tags": []
   },
   "outputs": [
    {
     "name": "stdout",
     "output_type": "stream",
     "text": [
      "Selected features: ['Age', 'Height', 'Level of studies', 'Voice type', 'accent', 'Hair color', 'Gender', 'WorkLifeBalance']\n"
     ]
    }
   ],
   "source": [
    "from xgboost import XGBRegressor\n",
    "from xgboost import plot_importance\n",
    "from sklearn.feature_selection import RFE\n",
    "#build an XGBoost model\n",
    "model = XGBRegressor()\n",
    "# create the RFE model and select 8 attributes\n",
    "rfe = RFE(estimator=model,n_features_to_select=8)\n",
    "rfe = rfe.fit(X_train, y_train)\n",
    "# summarize the selection of the attributes\n",
    "print('Selected features: %s' % list(X.columns[rfe.support_]))\n"
   ]
  },
  {
   "cell_type": "markdown",
   "id": "d60bcc7f",
   "metadata": {
    "papermill": {
     "duration": 0.026269,
     "end_time": "2023-03-12T15:27:46.638748",
     "exception": false,
     "start_time": "2023-03-12T15:27:46.612479",
     "status": "completed"
    },
    "tags": []
   },
   "source": [
    "**MLPClassifier**"
   ]
  },
  {
   "cell_type": "code",
   "execution_count": 42,
   "id": "c6281028",
   "metadata": {
    "execution": {
     "iopub.execute_input": "2023-03-12T15:27:46.691844Z",
     "iopub.status.busy": "2023-03-12T15:27:46.691443Z",
     "iopub.status.idle": "2023-03-12T15:27:48.358326Z",
     "shell.execute_reply": "2023-03-12T15:27:48.357056Z"
    },
    "papermill": {
     "duration": 1.696269,
     "end_time": "2023-03-12T15:27:48.361073",
     "exception": false,
     "start_time": "2023-03-12T15:27:46.664804",
     "status": "completed"
    },
    "tags": []
   },
   "outputs": [
    {
     "name": "stdout",
     "output_type": "stream",
     "text": [
      "              precision    recall  f1-score   support\n",
      "\n",
      "        -1.0       1.00      0.99      0.99        69\n",
      "         0.0       1.00      1.00      1.00       381\n",
      "\n",
      "    accuracy                           1.00       450\n",
      "   macro avg       1.00      0.99      1.00       450\n",
      "weighted avg       1.00      1.00      1.00       450\n",
      "\n",
      " train score  : 1.0\n",
      " test score  : 0.9977777777777778\n"
     ]
    },
    {
     "data": {
      "image/png": "[encoded data removed]",
      "text/plain": [
       "<Figure size 432x288 with 2 Axes>"
      ]
     },
     "metadata": {
      "needs_background": "light"
     },
     "output_type": "display_data"
    }
   ],
   "source": [
    "\n",
    "clf = MLPClassifier(random_state=1, max_iter=300).fit(X_train, y_train)\n",
    "clf.score(X_test, y_test)\n",
    "preds = clf.predict(X_test)\n",
    "print(classification_report(y_test, preds))\n",
    "print(' train score  :', clf.score(X_train, y_train))\n",
    "print(' test score  :', clf.score(X_test, y_test))\n",
    "plot_confusion_matrix(clf, X_test, y_test, cmap=plt.cm.Blues)\n",
    "plt.show()"
   ]
  },
  {
   "cell_type": "markdown",
   "id": "3bb1b5a0",
   "metadata": {
    "papermill": {
     "duration": 0.025697,
     "end_time": "2023-03-12T15:27:48.412733",
     "exception": false,
     "start_time": "2023-03-12T15:27:48.387036",
     "status": "completed"
    },
    "tags": []
   },
   "source": [
    "**crossvalidation**"
   ]
  },
  {
   "cell_type": "code",
   "execution_count": 43,
   "id": "2750dac5",
   "metadata": {
    "execution": {
     "iopub.execute_input": "2023-03-12T15:27:48.468005Z",
     "iopub.status.busy": "2023-03-12T15:27:48.467570Z",
     "iopub.status.idle": "2023-03-12T15:27:48.474950Z",
     "shell.execute_reply": "2023-03-12T15:27:48.473571Z"
    },
    "papermill": {
     "duration": 0.038768,
     "end_time": "2023-03-12T15:27:48.477552",
     "exception": false,
     "start_time": "2023-03-12T15:27:48.438784",
     "status": "completed"
    },
    "tags": []
   },
   "outputs": [],
   "source": [
    "# Cross validate model with Kfold stratified cross val\n",
    "kfold = StratifiedKFold(n_splits=10)\n",
    "\n",
    "# Modeling step Test differents algorithms \n",
    "random_state = 0\n",
    "classifiers = []\n",
    "\n",
    "\n",
    "classifiers.append(KNeighborsClassifier())\n",
    "classifiers.append(SVC())\n",
    "classifiers.append(DecisionTreeClassifier())\n",
    "classifiers.append(GaussianNB())\n",
    "classifiers.append(AdaBoostClassifier(DecisionTreeClassifier()))\n",
    "classifiers.append(RandomForestClassifier())"
   ]
  },
  {
   "cell_type": "markdown",
   "id": "e1bd075c",
   "metadata": {
    "papermill": {
     "duration": 0.025632,
     "end_time": "2023-03-12T15:27:48.529548",
     "exception": false,
     "start_time": "2023-03-12T15:27:48.503916",
     "status": "completed"
    },
    "tags": []
   },
   "source": [
    "# Evaluation"
   ]
  },
  {
   "cell_type": "code",
   "execution_count": 44,
   "id": "f0e80239",
   "metadata": {
    "execution": {
     "iopub.execute_input": "2023-03-12T15:27:48.584344Z",
     "iopub.status.busy": "2023-03-12T15:27:48.583546Z",
     "iopub.status.idle": "2023-03-12T15:27:51.408070Z",
     "shell.execute_reply": "2023-03-12T15:27:51.406698Z"
    },
    "papermill": {
     "duration": 2.855162,
     "end_time": "2023-03-12T15:27:51.410912",
     "exception": false,
     "start_time": "2023-03-12T15:27:48.555750",
     "status": "completed"
    },
    "tags": []
   },
   "outputs": [],
   "source": [
    "from sklearn.model_selection import cross_val_score\n",
    "cv_results = []\n",
    "for classifier in classifiers :\n",
    "    cv_results.append(cross_val_score(classifier, X_train, y = y_train, scoring = \"accuracy\", cv = kfold, n_jobs=-1))\n",
    "\n",
    "cv_means = []\n",
    "cv_std = []\n",
    "for cv_result in cv_results:\n",
    "    cv_means.append(cv_result.mean())\n",
    "    cv_std.append(cv_result.std())\n",
    "\n",
    "cv_res_1 = pd.DataFrame({\"CrossValMeans\":cv_means,\"CrossValerrors\": cv_std,\"Algorithm\":[\"KNN\",\"SVC\",\"DecisionTree\",\"GNB\",\"AdaBoost\",\n",
    "\"RandomForest\"]})"
   ]
  },
  {
   "cell_type": "code",
   "execution_count": 45,
   "id": "6ea5aaa7",
   "metadata": {
    "execution": {
     "iopub.execute_input": "2023-03-12T15:27:51.466546Z",
     "iopub.status.busy": "2023-03-12T15:27:51.464791Z",
     "iopub.status.idle": "2023-03-12T15:27:51.702783Z",
     "shell.execute_reply": "2023-03-12T15:27:51.701535Z"
    },
    "papermill": {
     "duration": 0.268721,
     "end_time": "2023-03-12T15:27:51.706110",
     "exception": false,
     "start_time": "2023-03-12T15:27:51.437389",
     "status": "completed"
    },
    "tags": []
   },
   "outputs": [
    {
     "data": {
      "image/png": "[encoded data removed]",
      "text/plain": [
       "<Figure size 576x360 with 1 Axes>"
      ]
     },
     "metadata": {
      "needs_background": "light"
     },
     "output_type": "display_data"
    }
   ],
   "source": [
    "plt.figure(figsize = (8,5))\n",
    "g = sns.barplot(\"CrossValMeans\",\"Algorithm\",data = cv_res_1, palette=\"Set3\",orient = \"h\",**{'xerr':cv_std})\n",
    "g.set_ylabel(\"Algorithm\", fontsize = 12)\n",
    "g.set_xlabel(\"Mean Accuracy\", fontsize = 12)\n",
    "g = g.set_title(\"Cross Validation Scores (k=10)\", fontsize=15)\n",
    "plt.show()"
   ]
  },
  {
   "cell_type": "markdown",
   "id": "f82effdd",
   "metadata": {
    "papermill": {
     "duration": 0.028575,
     "end_time": "2023-03-12T15:27:51.762857",
     "exception": false,
     "start_time": "2023-03-12T15:27:51.734282",
     "status": "completed"
    },
    "tags": []
   },
   "source": [
    "**seems like the previous scores only means that we are facing an overfitting problem even after using features selection this problem is still standing  \n",
    "so probably our data isn't fit for classification models**  "
   ]
  },
  {
   "cell_type": "markdown",
   "id": "ea663dbe",
   "metadata": {
    "papermill": {
     "duration": 0.025844,
     "end_time": "2023-03-12T15:27:51.815774",
     "exception": false,
     "start_time": "2023-03-12T15:27:51.789930",
     "status": "completed"
    },
    "tags": []
   },
   "source": [
    "****"
   ]
  }
 ],
 "metadata": {
  "kernelspec": {
   "display_name": "Python 3",
   "language": "python",
   "name": "python3"
  },
  "language_info": {
   "codemirror_mode": {
    "name": "ipython",
    "version": 3
   },
   "file_extension": ".py",
   "mimetype": "text/x-python",
   "name": "python",
   "nbconvert_exporter": "python",
   "pygments_lexer": "ipython3",
   "version": "3.7.12"
  },
  "papermill": {
   "default_parameters": {},
   "duration": 34.085329,
   "end_time": "2023-03-12T15:27:54.465940",
   "environment_variables": {},
   "exception": null,
   "input_path": "__notebook__.ipynb",
   "output_path": "__notebook__.ipynb",
   "parameters": {},
   "start_time": "2023-03-12T15:27:20.380611",
   "version": "2.3.4"
  }
 },
 "nbformat": 4,
 "nbformat_minor": 5
}
